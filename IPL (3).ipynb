{
 "cells": [
  {
   "cell_type": "code",
   "execution_count": 1,
   "id": "14b787cd-bd18-42a9-80ea-d2c57fbda767",
   "metadata": {},
   "outputs": [],
   "source": [
    "import pandas as pd\n",
    "import numpy as np\n",
    "import matplotlib.pyplot as plt\n",
    "import seaborn as sns "
   ]
  },
  {
   "cell_type": "code",
   "execution_count": 2,
   "id": "c14a9bd0-4192-49f0-aea6-70f3d38c876e",
   "metadata": {},
   "outputs": [
    {
     "data": {
      "text/html": [
       "<div>\n",
       "<style scoped>\n",
       "    .dataframe tbody tr th:only-of-type {\n",
       "        vertical-align: middle;\n",
       "    }\n",
       "\n",
       "    .dataframe tbody tr th {\n",
       "        vertical-align: top;\n",
       "    }\n",
       "\n",
       "    .dataframe thead th {\n",
       "        text-align: right;\n",
       "    }\n",
       "</style>\n",
       "<table border=\"1\" class=\"dataframe\">\n",
       "  <thead>\n",
       "    <tr style=\"text-align: right;\">\n",
       "      <th></th>\n",
       "      <th>season</th>\n",
       "      <th>id</th>\n",
       "      <th>name</th>\n",
       "      <th>short_name</th>\n",
       "      <th>description</th>\n",
       "      <th>home_team</th>\n",
       "      <th>away_team</th>\n",
       "      <th>toss_won</th>\n",
       "      <th>decision</th>\n",
       "      <th>1st_inning_score</th>\n",
       "      <th>...</th>\n",
       "      <th>home_playx1</th>\n",
       "      <th>away_playx1</th>\n",
       "      <th>away_key_batsman</th>\n",
       "      <th>away_key_bowler</th>\n",
       "      <th>match_days</th>\n",
       "      <th>umpire1</th>\n",
       "      <th>umpire2</th>\n",
       "      <th>tv_umpire</th>\n",
       "      <th>referee</th>\n",
       "      <th>reserve_umpire</th>\n",
       "    </tr>\n",
       "  </thead>\n",
       "  <tbody>\n",
       "    <tr>\n",
       "      <th>0</th>\n",
       "      <td>NaN</td>\n",
       "      <td>1370350</td>\n",
       "      <td>Chennai Super Kings v Gujarat Titans</td>\n",
       "      <td>CSK v GT</td>\n",
       "      <td>Qualifier 1 (N), Indian Premier League at Chen...</td>\n",
       "      <td>CSK</td>\n",
       "      <td>GT</td>\n",
       "      <td>NaN</td>\n",
       "      <td>NaN</td>\n",
       "      <td>NaN</td>\n",
       "      <td>...</td>\n",
       "      <td>NaN</td>\n",
       "      <td>NaN</td>\n",
       "      <td>NaN</td>\n",
       "      <td>NaN</td>\n",
       "      <td>NaN</td>\n",
       "      <td>NaN</td>\n",
       "      <td>NaN</td>\n",
       "      <td>NaN</td>\n",
       "      <td>NaN</td>\n",
       "      <td>NaN</td>\n",
       "    </tr>\n",
       "    <tr>\n",
       "      <th>1</th>\n",
       "      <td>NaN</td>\n",
       "      <td>1370351</td>\n",
       "      <td>Lucknow Super Giants v Mumbai Indians</td>\n",
       "      <td>LSG v MI</td>\n",
       "      <td>Eliminator (N), Indian Premier League at Chenn...</td>\n",
       "      <td>LSG</td>\n",
       "      <td>MI</td>\n",
       "      <td>NaN</td>\n",
       "      <td>NaN</td>\n",
       "      <td>NaN</td>\n",
       "      <td>...</td>\n",
       "      <td>NaN</td>\n",
       "      <td>NaN</td>\n",
       "      <td>NaN</td>\n",
       "      <td>NaN</td>\n",
       "      <td>NaN</td>\n",
       "      <td>NaN</td>\n",
       "      <td>NaN</td>\n",
       "      <td>NaN</td>\n",
       "      <td>NaN</td>\n",
       "      <td>NaN</td>\n",
       "    </tr>\n",
       "    <tr>\n",
       "      <th>2</th>\n",
       "      <td>NaN</td>\n",
       "      <td>1370352</td>\n",
       "      <td>TBC v TBC</td>\n",
       "      <td>TBC v TBC</td>\n",
       "      <td>Qualifier 2 (N), Indian Premier League at Ahme...</td>\n",
       "      <td>TBA</td>\n",
       "      <td>TBA</td>\n",
       "      <td>NaN</td>\n",
       "      <td>NaN</td>\n",
       "      <td>NaN</td>\n",
       "      <td>...</td>\n",
       "      <td>NaN</td>\n",
       "      <td>NaN</td>\n",
       "      <td>NaN</td>\n",
       "      <td>NaN</td>\n",
       "      <td>NaN</td>\n",
       "      <td>NaN</td>\n",
       "      <td>NaN</td>\n",
       "      <td>NaN</td>\n",
       "      <td>NaN</td>\n",
       "      <td>NaN</td>\n",
       "    </tr>\n",
       "    <tr>\n",
       "      <th>3</th>\n",
       "      <td>NaN</td>\n",
       "      <td>1370353</td>\n",
       "      <td>TBC v TBC</td>\n",
       "      <td>TBC v TBC</td>\n",
       "      <td>Final (N), Indian Premier League at Ahmedabad,...</td>\n",
       "      <td>TBA</td>\n",
       "      <td>TBA</td>\n",
       "      <td>NaN</td>\n",
       "      <td>NaN</td>\n",
       "      <td>NaN</td>\n",
       "      <td>...</td>\n",
       "      <td>NaN</td>\n",
       "      <td>NaN</td>\n",
       "      <td>NaN</td>\n",
       "      <td>NaN</td>\n",
       "      <td>NaN</td>\n",
       "      <td>NaN</td>\n",
       "      <td>NaN</td>\n",
       "      <td>NaN</td>\n",
       "      <td>NaN</td>\n",
       "      <td>NaN</td>\n",
       "    </tr>\n",
       "    <tr>\n",
       "      <th>4</th>\n",
       "      <td>2023.0</td>\n",
       "      <td>1359544</td>\n",
       "      <td>Royal Challengers Bangalore v Gujarat Titans</td>\n",
       "      <td>RCB v GT</td>\n",
       "      <td>70th Match (N), Indian Premier League at Benga...</td>\n",
       "      <td>RCB</td>\n",
       "      <td>GT</td>\n",
       "      <td>GT</td>\n",
       "      <td>BOWL FIRST</td>\n",
       "      <td>197/5</td>\n",
       "      <td>...</td>\n",
       "      <td>Virat Kohli (UKN),Faf du Plessis (UKN),Glenn M...</td>\n",
       "      <td>Wriddhiman Saha (WK),Shubman Gill (UKN),Vijay ...</td>\n",
       "      <td>Shubman Gill,Vijay Shankar</td>\n",
       "      <td>Noor Ahmad,Rashid Khan</td>\n",
       "      <td>21 May 2023 - night match (20-over match)</td>\n",
       "      <td>Nitin Menon</td>\n",
       "      <td>Virender Sharma</td>\n",
       "      <td>Tapan Sharma</td>\n",
       "      <td>Javagal Srinath</td>\n",
       "      <td>VM  Dhokre</td>\n",
       "    </tr>\n",
       "  </tbody>\n",
       "</table>\n",
       "<p>5 rows × 43 columns</p>\n",
       "</div>"
      ],
      "text/plain": [
       "   season       id                                          name short_name  \\\n",
       "0     NaN  1370350          Chennai Super Kings v Gujarat Titans   CSK v GT   \n",
       "1     NaN  1370351         Lucknow Super Giants v Mumbai Indians   LSG v MI   \n",
       "2     NaN  1370352                                     TBC v TBC  TBC v TBC   \n",
       "3     NaN  1370353                                     TBC v TBC  TBC v TBC   \n",
       "4  2023.0  1359544  Royal Challengers Bangalore v Gujarat Titans   RCB v GT   \n",
       "\n",
       "                                         description home_team away_team  \\\n",
       "0  Qualifier 1 (N), Indian Premier League at Chen...       CSK        GT   \n",
       "1  Eliminator (N), Indian Premier League at Chenn...       LSG        MI   \n",
       "2  Qualifier 2 (N), Indian Premier League at Ahme...       TBA       TBA   \n",
       "3  Final (N), Indian Premier League at Ahmedabad,...       TBA       TBA   \n",
       "4  70th Match (N), Indian Premier League at Benga...       RCB        GT   \n",
       "\n",
       "  toss_won    decision 1st_inning_score  ...  \\\n",
       "0      NaN         NaN              NaN  ...   \n",
       "1      NaN         NaN              NaN  ...   \n",
       "2      NaN         NaN              NaN  ...   \n",
       "3      NaN         NaN              NaN  ...   \n",
       "4       GT  BOWL FIRST            197/5  ...   \n",
       "\n",
       "                                         home_playx1  \\\n",
       "0                                                NaN   \n",
       "1                                                NaN   \n",
       "2                                                NaN   \n",
       "3                                                NaN   \n",
       "4  Virat Kohli (UKN),Faf du Plessis (UKN),Glenn M...   \n",
       "\n",
       "                                         away_playx1  \\\n",
       "0                                                NaN   \n",
       "1                                                NaN   \n",
       "2                                                NaN   \n",
       "3                                                NaN   \n",
       "4  Wriddhiman Saha (WK),Shubman Gill (UKN),Vijay ...   \n",
       "\n",
       "             away_key_batsman         away_key_bowler  \\\n",
       "0                         NaN                     NaN   \n",
       "1                         NaN                     NaN   \n",
       "2                         NaN                     NaN   \n",
       "3                         NaN                     NaN   \n",
       "4  Shubman Gill,Vijay Shankar  Noor Ahmad,Rashid Khan   \n",
       "\n",
       "                                  match_days      umpire1          umpire2  \\\n",
       "0                                        NaN          NaN              NaN   \n",
       "1                                        NaN          NaN              NaN   \n",
       "2                                        NaN          NaN              NaN   \n",
       "3                                        NaN          NaN              NaN   \n",
       "4  21 May 2023 - night match (20-over match)  Nitin Menon  Virender Sharma   \n",
       "\n",
       "      tv_umpire          referee reserve_umpire  \n",
       "0           NaN              NaN            NaN  \n",
       "1           NaN              NaN            NaN  \n",
       "2           NaN              NaN            NaN  \n",
       "3           NaN              NaN            NaN  \n",
       "4  Tapan Sharma  Javagal Srinath     VM  Dhokre  \n",
       "\n",
       "[5 rows x 43 columns]"
      ]
     },
     "execution_count": 2,
     "metadata": {},
     "output_type": "execute_result"
    }
   ],
   "source": [
    "data=pd.read_csv(\"Cricket_data.csv\")\n",
    "data.head()"
   ]
  },
  {
   "cell_type": "code",
   "execution_count": 3,
   "id": "be794c28-56b7-4224-a213-07b8fe29550e",
   "metadata": {},
   "outputs": [
    {
     "data": {
      "text/plain": [
       "Index(['season', 'id', 'name', 'short_name', 'description', 'home_team',\n",
       "       'away_team', 'toss_won', 'decision', '1st_inning_score',\n",
       "       '2nd_inning_score', 'winner', 'result', 'start_date', 'end_date',\n",
       "       'venue_id', 'venue_name', 'home_captain', 'away_captain', 'pom',\n",
       "       'points', 'super_over', 'home_overs', 'home_runs', 'home_wickets',\n",
       "       'home_boundaries', 'away_overs', 'away_runs', 'away_wickets',\n",
       "       'away_boundaries', 'highlights', 'home_key_batsman', 'home_key_bowler',\n",
       "       'home_playx1', 'away_playx1', 'away_key_batsman', 'away_key_bowler',\n",
       "       'match_days', 'umpire1', 'umpire2', 'tv_umpire', 'referee',\n",
       "       'reserve_umpire'],\n",
       "      dtype='object')"
      ]
     },
     "execution_count": 3,
     "metadata": {},
     "output_type": "execute_result"
    }
   ],
   "source": [
    "data.columns"
   ]
  },
  {
   "cell_type": "code",
   "execution_count": 4,
   "id": "9f1d2115-ae04-4957-a8fb-fa0aad35af4e",
   "metadata": {},
   "outputs": [
    {
     "data": {
      "text/plain": [
       "(1032, 43)"
      ]
     },
     "execution_count": 4,
     "metadata": {},
     "output_type": "execute_result"
    }
   ],
   "source": [
    "data.shape"
   ]
  },
  {
   "cell_type": "code",
   "execution_count": 5,
   "id": "16ee3f6f-bb42-4961-a7c7-98c8520d7fa1",
   "metadata": {},
   "outputs": [
    {
     "data": {
      "text/plain": [
       "44376"
      ]
     },
     "execution_count": 5,
     "metadata": {},
     "output_type": "execute_result"
    }
   ],
   "source": [
    "data.size"
   ]
  },
  {
   "cell_type": "code",
   "execution_count": 6,
   "id": "17571c65-3fec-40b5-afdb-b2efe086a4b4",
   "metadata": {},
   "outputs": [
    {
     "data": {
      "text/plain": [
       "season               5\n",
       "id                   0\n",
       "name                 0\n",
       "short_name           0\n",
       "description          0\n",
       "home_team            0\n",
       "away_team            0\n",
       "toss_won             5\n",
       "decision             5\n",
       "1st_inning_score    13\n",
       "2nd_inning_score    15\n",
       "winner               1\n",
       "result               0\n",
       "start_date           0\n",
       "end_date             0\n",
       "venue_id             0\n",
       "venue_name           0\n",
       "home_captain         5\n",
       "away_captain         5\n",
       "pom                 17\n",
       "points              65\n",
       "super_over           5\n",
       "home_overs          13\n",
       "home_runs           13\n",
       "home_wickets        13\n",
       "home_boundaries     13\n",
       "away_overs          15\n",
       "away_runs           15\n",
       "away_wickets        15\n",
       "away_boundaries     15\n",
       "highlights          27\n",
       "home_key_batsman    13\n",
       "home_key_bowler     26\n",
       "home_playx1          5\n",
       "away_playx1          5\n",
       "away_key_batsman    15\n",
       "away_key_bowler     24\n",
       "match_days           5\n",
       "umpire1              5\n",
       "umpire2              5\n",
       "tv_umpire            7\n",
       "referee              5\n",
       "reserve_umpire      31\n",
       "dtype: int64"
      ]
     },
     "execution_count": 6,
     "metadata": {},
     "output_type": "execute_result"
    }
   ],
   "source": [
    "data.isnull().sum()"
   ]
  },
  {
   "cell_type": "markdown",
   "id": "5c03b2bf-f6e1-4e06-a866-be818c56990f",
   "metadata": {},
   "source": [
    "1.FINDING DATA OF WHAT SEASONS ARE THERE "
   ]
  },
  {
   "cell_type": "code",
   "execution_count": 7,
   "id": "cae7a881-61a6-4f44-af7c-2659fb804c54",
   "metadata": {},
   "outputs": [
    {
     "data": {
      "text/plain": [
       "array([  nan, 2023., 2022., 2021., 2020., 2019., 2018., 2017., 2016.,\n",
       "       2015., 2014., 2013., 2012., 2011., 2010., 2009., 2008.])"
      ]
     },
     "execution_count": 7,
     "metadata": {},
     "output_type": "execute_result"
    }
   ],
   "source": [
    "data[\"season\"].unique()"
   ]
  },
  {
   "cell_type": "markdown",
   "id": "1f215807-e32c-4dd0-bcf3-b58d449d3ce3",
   "metadata": {},
   "source": [
    "#Data from starting(2008-2023) season data are available"
   ]
  },
  {
   "cell_type": "markdown",
   "id": "9930d262-4b21-4311-bae7-bf6aadf1cdff",
   "metadata": {},
   "source": [
    "2.# Finding out what are the posssible way match happened between 2 teams "
   ]
  },
  {
   "cell_type": "code",
   "execution_count": 8,
   "id": "4a17d6ce-4641-433a-96a7-385d628ceafd",
   "metadata": {},
   "outputs": [
    {
     "data": {
      "text/plain": [
       "array(['CSK v GT', 'LSG v MI', 'TBC v TBC', 'RCB v GT', 'MI v SRH',\n",
       "       'KKR v LSG', 'DC v CSK', 'PBKS v RR', 'SRH v RCB', 'PBKS v DC',\n",
       "       'GT v SRH', 'CSK v KKR', 'RR v RCB', 'DC v PBKS', 'SRH v LSG',\n",
       "       'MI v GT', 'KKR v RR', 'CSK v DC', 'MI v RCB', 'KKR v PBKS',\n",
       "       'RR v SRH', 'GT v LSG', 'DC v RCB', 'CSK v MI', 'RR v GT',\n",
       "       'SRH v KKR', 'PBKS v MI', 'LSG v CSK', 'GT v DC', 'LSG v RCB',\n",
       "       'MI v RR', 'CSK v PBKS', 'DC v SRH', 'KKR v GT', 'PBKS v LSG',\n",
       "       'RR v CSK', 'RCB v KKR', 'GT v MI', 'SRH v DC', 'KKR v CSK',\n",
       "       'RCB v RR', 'MI v PBKS', 'LSG v GT', 'CSK v SRH', 'DC v KKR',\n",
       "       'PBKS v RCB', 'RR v LSG', 'SRH v MI', 'RCB v CSK', 'GT v RR',\n",
       "       'MI v KKR', 'LSG v PBKS', 'RCB v DC', 'KKR v SRH', 'PBKS v GT',\n",
       "       'CSK v RR', 'DC v MI', 'RCB v LSG', 'SRH v PBKS', 'GT v KKR',\n",
       "       'MI v CSK', 'RR v DC', 'LSG v SRH', 'KKR v RCB', 'RR v PBKS',\n",
       "       'DC v GT', 'CSK v LSG', 'RCB v MI', 'SRH v RR', 'LSG v DC',\n",
       "       'PBKS v KKR', 'GT v CSK', 'KKR v MI', 'KKR v DC', 'SRH v GT',\n",
       "       'CSK v RCB', 'MI v LSG', 'PBKS v SRH', 'RR v KKR', 'DC v RR',\n",
       "       'RCB v SRH', 'PBKS v CSK', 'GT v RCB', 'RR v MI', 'DC v LSG',\n",
       "       'SRH v CSK', 'GT v PBKS', 'LSG v KKR', 'RCB v PBKS', 'LSG v RR',\n",
       "       'MI v DC', 'DC v KXIP', 'KXIP v RCB', 'RR v KXIP', 'KXIP v MI',\n",
       "       'KXIP v CSK', 'SRH v KXIP', 'KXIP v KKR', 'RCB v KXIP',\n",
       "       'MI v KXIP', 'KXIP v DC', 'KXIP v SRH', 'KKR v KXIP', 'KXIP v RR',\n",
       "       'CSK v KXIP', 'RPS v MI', 'GL v KKR', 'KXIP v RPS', 'SRH v GL',\n",
       "       'RPS v DC', 'GL v RPS', 'MI v GL', 'RCB v RPS', 'GL v RCB',\n",
       "       'KKR v GL', 'RPS v SRH', 'GL v KXIP', 'MI v RPS', 'RPS v KKR',\n",
       "       'RCB v GL', 'RPS v RCB', 'GL v MI', 'RPS v GL', 'KKR v RPS',\n",
       "       'DC v GL', 'SRH v RPS', 'KXIP v GL', 'GL v DC', 'DC v RPS',\n",
       "       'GL v SRH', 'RPS v KXIP', 'SRH v PWI', 'PWI v KXIP', 'PWI v RR',\n",
       "       'MI v PWI', 'CSK v PWI', 'PWI v SRH', 'KXIP v PWI', 'RCB v PWI',\n",
       "       'DC v PWI', 'PWI v CSK', 'PWI v RCB', 'RR v PWI', 'PWI v KKR',\n",
       "       'PWI v MI', 'KKR v PWI', 'PWI v DC', 'Kochi v RCB', 'PWI v Kochi',\n",
       "       'MI v Kochi', 'Kochi v CSK', 'KKR v Kochi', 'RR v Kochi',\n",
       "       'Kochi v DC', 'DC v Kochi', 'Kochi v KKR', 'RCB v Kochi',\n",
       "       'Kochi v KXIP', 'Kochi v RR', 'CSK v Kochi'], dtype=object)"
      ]
     },
     "execution_count": 8,
     "metadata": {},
     "output_type": "execute_result"
    }
   ],
   "source": [
    "data[\"short_name\"].unique()"
   ]
  },
  {
   "cell_type": "code",
   "execution_count": 9,
   "id": "ee718335-dcd6-48fd-bbce-1b595cd15535",
   "metadata": {},
   "outputs": [
    {
     "data": {
      "text/plain": [
       "160"
      ]
     },
     "execution_count": 9,
     "metadata": {},
     "output_type": "execute_result"
    }
   ],
   "source": [
    "len(data[\"short_name\"].unique())"
   ]
  },
  {
   "cell_type": "code",
   "execution_count": 10,
   "id": "993b5051-b94d-4712-a1ac-3384dad40cd1",
   "metadata": {},
   "outputs": [],
   "source": [
    "# 160 ways match type between 2 teams "
   ]
  },
  {
   "cell_type": "markdown",
   "id": "43a3083c-41b1-4ae8-a611-f9cfec49ea1b",
   "metadata": {},
   "source": [
    "3.Find the match between 2 teams "
   ]
  },
  {
   "cell_type": "code",
   "execution_count": 11,
   "id": "56136d47-334f-45d2-9cb3-9c07d31d4f7f",
   "metadata": {},
   "outputs": [
    {
     "data": {
      "text/plain": [
       "DC v MI        25\n",
       "DC v KKR       25\n",
       "CSK v DC       24\n",
       "DC v RCB       21\n",
       "DC v RR        20\n",
       "               ..\n",
       "SRH v PWI       1\n",
       "DC v GT         1\n",
       "LSG v PBKS      1\n",
       "RCB v LSG       1\n",
       "CSK v Kochi     1\n",
       "Name: short_name, Length: 160, dtype: int64"
      ]
     },
     "execution_count": 11,
     "metadata": {},
     "output_type": "execute_result"
    }
   ],
   "source": [
    "data[\"short_name\"].value_counts()"
   ]
  },
  {
   "cell_type": "code",
   "execution_count": 12,
   "id": "8e974ae6-cc21-4e26-9b48-e22fee580c8c",
   "metadata": {},
   "outputs": [
    {
     "data": {
      "text/plain": [
       "DC v MI      25\n",
       "DC v KKR     25\n",
       "CSK v DC     24\n",
       "DC v RCB     21\n",
       "DC v RR      20\n",
       "RCB v DC     20\n",
       "DC v KXIP    20\n",
       "CSK v MI     19\n",
       "MI v DC      18\n",
       "RCB v KKR    18\n",
       "CSK v KKR    17\n",
       "RCB v MI     17\n",
       "MI v CSK     17\n",
       "DC v SRH     17\n",
       "SRH v DC     17\n",
       "KKR v DC     17\n",
       "RR v DC      16\n",
       "MI v RR      16\n",
       "KKR v RR     16\n",
       "KKR v MI     16\n",
       "KXIP v DC    16\n",
       "CSK v RCB    16\n",
       "MI v KKR     16\n",
       "MI v RCB     15\n",
       "RCB v RR     15\n",
       "Name: short_name, dtype: int64"
      ]
     },
     "execution_count": 12,
     "metadata": {},
     "output_type": "execute_result"
    }
   ],
   "source": [
    "mc=(data[\"short_name\"].value_counts()).head(25)\n",
    "mc"
   ]
  },
  {
   "cell_type": "code",
   "execution_count": 13,
   "id": "2a77ac28-43bf-41a0-a667-d8c71d36fee1",
   "metadata": {},
   "outputs": [
    {
     "data": {
      "image/png": "[encoded data removed]",
      "text/plain": [
       "<Figure size 720x360 with 1 Axes>"
      ]
     },
     "metadata": {
      "needs_background": "light"
     },
     "output_type": "display_data"
    }
   ],
   "source": [
    "plt.figure(figsize=(10,5))\n",
    "mc.plot(kind='bar',color='r')\n",
    "plt.xlabel(\"MATCH BTWN 2 TEAMS\")\n",
    "plt.ylabel(\"Count of matches\")\n",
    "plt.title(\"Count of match bwtn 2 teams\")\n",
    "plt.xticks(rotation=45)\n",
    "plt.show()"
   ]
  },
  {
   "cell_type": "markdown",
   "id": "91ae0bae-fafc-4c5e-833c-ccdfced5718a",
   "metadata": {},
   "source": [
    "Can be seen highest mactch was between DC VS MI , DC VS KKR "
   ]
  },
  {
   "cell_type": "code",
   "execution_count": 14,
   "id": "bb6bd78d-fb87-4e4b-a6f7-b8a692ed3f1b",
   "metadata": {},
   "outputs": [],
   "source": [
    "# 4.Finding no of home match a team has played "
   ]
  },
  {
   "cell_type": "code",
   "execution_count": 15,
   "id": "8ccfe617-b692-402d-af1f-5eb661f7a5bd",
   "metadata": {},
   "outputs": [
    {
     "data": {
      "text/plain": [
       "array(['CSK', 'LSG', 'TBA', 'RCB', 'MI', 'KKR', 'DC', 'PBKS', 'SRH', 'GT',\n",
       "       'RR', 'KXIP', 'RPS', 'GL', 'PWI', 'Kochi'], dtype=object)"
      ]
     },
     "execution_count": 15,
     "metadata": {},
     "output_type": "execute_result"
    }
   ],
   "source": [
    "data['home_team'].unique()"
   ]
  },
  {
   "cell_type": "code",
   "execution_count": 16,
   "id": "2df41fc6-944e-47ef-b999-70ccacb9c51f",
   "metadata": {},
   "outputs": [
    {
     "data": {
      "text/plain": [
       "home_team\n",
       "RCB          125\n",
       "CSK          124\n",
       "DC           123\n",
       "SRH          122\n",
       "MI           120\n",
       "KKR          115\n",
       "RR            96\n",
       "KXIP          93\n",
       "PWI           23\n",
       "PBKS          21\n",
       "GT            16\n",
       "LSG           16\n",
       "GL            15\n",
       "RPS           14\n",
       "Kochi          7\n",
       "TBA            2\n",
       "dtype: int64"
      ]
     },
     "execution_count": 16,
     "metadata": {},
     "output_type": "execute_result"
    }
   ],
   "source": [
    "hc1=data[['home_team']].value_counts()\n",
    "hc1"
   ]
  },
  {
   "cell_type": "code",
   "execution_count": 17,
   "id": "4c5fc0f4-b983-4b51-ac5b-c8472fc579dc",
   "metadata": {},
   "outputs": [
    {
     "data": {
      "text/plain": [
       "away_team\n",
       "MI           127\n",
       "KKR          126\n",
       "SRH          121\n",
       "RCB          118\n",
       "DC           116\n",
       "RR           113\n",
       "CSK          101\n",
       "KXIP          97\n",
       "PWI           23\n",
       "PBKS          21\n",
       "RPS           16\n",
       "GL            15\n",
       "GT            15\n",
       "LSG           14\n",
       "Kochi          7\n",
       "TBA            2\n",
       "dtype: int64"
      ]
     },
     "execution_count": 17,
     "metadata": {},
     "output_type": "execute_result"
    }
   ],
   "source": [
    "hc2=data[['away_team']].value_counts()\n",
    "hc2"
   ]
  },
  {
   "cell_type": "code",
   "execution_count": 18,
   "id": "2e3c606f-e31b-41b5-b633-0829a506bf5a",
   "metadata": {},
   "outputs": [
    {
     "data": {
      "image/png": "[encoded data removed]",
      "text/plain": [
       "<Figure size 1080x720 with 1 Axes>"
      ]
     },
     "metadata": {},
     "output_type": "display_data"
    }
   ],
   "source": [
    "plt.figure(figsize=(15,10))\n",
    "plt.pie(hc1,labels=hc1.index,autopct=\"%.1f%%\",startangle=140)\n",
    "plt.title(\"Count of match bwtn 2 teams\")\n",
    "plt.xticks(rotation=45)\n",
    "plt.show()"
   ]
  },
  {
   "cell_type": "markdown",
   "id": "568e88f6-eb6d-4daf-8cbf-fd0e1c0cd87b",
   "metadata": {},
   "source": [
    "RCB,CSK,SRH,MI,KKR HAS PLAYED MAX MATCHES IN H0ME "
   ]
  },
  {
   "cell_type": "code",
   "execution_count": 19,
   "id": "e6425892-629f-4aee-8e12-df9760384e02",
   "metadata": {},
   "outputs": [],
   "source": [
    "# FINDING TOTAL MATCHES PLAYED BY A TEAM "
   ]
  },
  {
   "cell_type": "code",
   "execution_count": 20,
   "id": "4eec2ae0-91c4-4e34-aecc-b98db35b5e65",
   "metadata": {},
   "outputs": [
    {
     "data": {
      "text/html": [
       "<div>\n",
       "<style scoped>\n",
       "    .dataframe tbody tr th:only-of-type {\n",
       "        vertical-align: middle;\n",
       "    }\n",
       "\n",
       "    .dataframe tbody tr th {\n",
       "        vertical-align: top;\n",
       "    }\n",
       "\n",
       "    .dataframe thead th {\n",
       "        text-align: right;\n",
       "    }\n",
       "</style>\n",
       "<table border=\"1\" class=\"dataframe\">\n",
       "  <thead>\n",
       "    <tr style=\"text-align: right;\">\n",
       "      <th></th>\n",
       "      <th>Team</th>\n",
       "      <th>Total match</th>\n",
       "    </tr>\n",
       "  </thead>\n",
       "  <tbody>\n",
       "    <tr>\n",
       "      <th>0</th>\n",
       "      <td>MI</td>\n",
       "      <td>247</td>\n",
       "    </tr>\n",
       "    <tr>\n",
       "      <th>1</th>\n",
       "      <td>RCB</td>\n",
       "      <td>243</td>\n",
       "    </tr>\n",
       "    <tr>\n",
       "      <th>2</th>\n",
       "      <td>SRH</td>\n",
       "      <td>243</td>\n",
       "    </tr>\n",
       "    <tr>\n",
       "      <th>3</th>\n",
       "      <td>KKR</td>\n",
       "      <td>241</td>\n",
       "    </tr>\n",
       "    <tr>\n",
       "      <th>4</th>\n",
       "      <td>DC</td>\n",
       "      <td>239</td>\n",
       "    </tr>\n",
       "    <tr>\n",
       "      <th>5</th>\n",
       "      <td>CSK</td>\n",
       "      <td>225</td>\n",
       "    </tr>\n",
       "    <tr>\n",
       "      <th>6</th>\n",
       "      <td>RR</td>\n",
       "      <td>209</td>\n",
       "    </tr>\n",
       "    <tr>\n",
       "      <th>7</th>\n",
       "      <td>KXIP</td>\n",
       "      <td>190</td>\n",
       "    </tr>\n",
       "    <tr>\n",
       "      <th>8</th>\n",
       "      <td>PWI</td>\n",
       "      <td>46</td>\n",
       "    </tr>\n",
       "    <tr>\n",
       "      <th>9</th>\n",
       "      <td>PBKS</td>\n",
       "      <td>42</td>\n",
       "    </tr>\n",
       "    <tr>\n",
       "      <th>10</th>\n",
       "      <td>GT</td>\n",
       "      <td>31</td>\n",
       "    </tr>\n",
       "    <tr>\n",
       "      <th>11</th>\n",
       "      <td>LSG</td>\n",
       "      <td>30</td>\n",
       "    </tr>\n",
       "    <tr>\n",
       "      <th>12</th>\n",
       "      <td>RPS</td>\n",
       "      <td>30</td>\n",
       "    </tr>\n",
       "    <tr>\n",
       "      <th>13</th>\n",
       "      <td>GL</td>\n",
       "      <td>30</td>\n",
       "    </tr>\n",
       "    <tr>\n",
       "      <th>14</th>\n",
       "      <td>Kochi</td>\n",
       "      <td>14</td>\n",
       "    </tr>\n",
       "    <tr>\n",
       "      <th>15</th>\n",
       "      <td>TBA</td>\n",
       "      <td>4</td>\n",
       "    </tr>\n",
       "  </tbody>\n",
       "</table>\n",
       "</div>"
      ],
      "text/plain": [
       "     Team  Total match\n",
       "0      MI          247\n",
       "1     RCB          243\n",
       "2     SRH          243\n",
       "3     KKR          241\n",
       "4      DC          239\n",
       "5     CSK          225\n",
       "6      RR          209\n",
       "7    KXIP          190\n",
       "8     PWI           46\n",
       "9    PBKS           42\n",
       "10     GT           31\n",
       "11    LSG           30\n",
       "12    RPS           30\n",
       "13     GL           30\n",
       "14  Kochi           14\n",
       "15    TBA            4"
      ]
     },
     "execution_count": 20,
     "metadata": {},
     "output_type": "execute_result"
    }
   ],
   "source": [
    "data2=[]\n",
    "for home in data[\"home_team\"].unique():\n",
    "    h1=data[data[\"home_team\"]==home].shape[0]\n",
    "    h2=data[data[\"away_team\"]==home].shape[0]\n",
    "    total = h1 + h2 \n",
    "    data2.append({\"Team\" : home , \"Total match\" : total})\n",
    "df=pd.DataFrame(data2)\n",
    "df.sort_values(by=\"Total match\",ascending=False,ignore_index=True)"
   ]
  },
  {
   "cell_type": "markdown",
   "id": "ed3e4d5c-8eb0-48e8-b2eb-a1b7790851c7",
   "metadata": {},
   "source": [
    "# PERFORMANCE ANALYSIS "
   ]
  },
  {
   "cell_type": "markdown",
   "id": "2502c7ad-812e-4b31-b63b-70ad91953314",
   "metadata": {},
   "source": [
    "1. Which team has the highest win percentage across all seasons"
   ]
  },
  {
   "cell_type": "code",
   "execution_count": 21,
   "id": "0b07cbdc-2a81-41e7-9f9d-7246ae2cb2b8",
   "metadata": {},
   "outputs": [
    {
     "data": {
      "text/html": [
       "<div>\n",
       "<style scoped>\n",
       "    .dataframe tbody tr th:only-of-type {\n",
       "        vertical-align: middle;\n",
       "    }\n",
       "\n",
       "    .dataframe tbody tr th {\n",
       "        vertical-align: top;\n",
       "    }\n",
       "\n",
       "    .dataframe thead th {\n",
       "        text-align: right;\n",
       "    }\n",
       "</style>\n",
       "<table border=\"1\" class=\"dataframe\">\n",
       "  <thead>\n",
       "    <tr style=\"text-align: right;\">\n",
       "      <th></th>\n",
       "      <th>winner</th>\n",
       "      <th>result</th>\n",
       "    </tr>\n",
       "  </thead>\n",
       "  <tbody>\n",
       "    <tr>\n",
       "      <th>0</th>\n",
       "      <td>GT</td>\n",
       "      <td>Starts at 19:30 local time</td>\n",
       "    </tr>\n",
       "    <tr>\n",
       "      <th>1</th>\n",
       "      <td>MI</td>\n",
       "      <td>Starts at 19:30 local time</td>\n",
       "    </tr>\n",
       "    <tr>\n",
       "      <th>2</th>\n",
       "      <td>TBA</td>\n",
       "      <td>Starts at 19:30 local time</td>\n",
       "    </tr>\n",
       "    <tr>\n",
       "      <th>3</th>\n",
       "      <td>TBA</td>\n",
       "      <td>Starts at 19:30 local time</td>\n",
       "    </tr>\n",
       "    <tr>\n",
       "      <th>4</th>\n",
       "      <td>GT</td>\n",
       "      <td>Titans won by 6 wkts (5b rem)</td>\n",
       "    </tr>\n",
       "    <tr>\n",
       "      <th>...</th>\n",
       "      <td>...</td>\n",
       "      <td>...</td>\n",
       "    </tr>\n",
       "    <tr>\n",
       "      <th>1027</th>\n",
       "      <td>MI</td>\n",
       "      <td>Mum Indians won by 9 wickets (with 12 balls re...</td>\n",
       "    </tr>\n",
       "    <tr>\n",
       "      <th>1028</th>\n",
       "      <td>KXIP</td>\n",
       "      <td>Kings XI won by 41 runs</td>\n",
       "    </tr>\n",
       "    <tr>\n",
       "      <th>1029</th>\n",
       "      <td>RR</td>\n",
       "      <td>Royals won by 105 runs</td>\n",
       "    </tr>\n",
       "    <tr>\n",
       "      <th>1030</th>\n",
       "      <td>CSK</td>\n",
       "      <td>Super Kings won by 9 wickets (with 31 balls re...</td>\n",
       "    </tr>\n",
       "    <tr>\n",
       "      <th>1031</th>\n",
       "      <td>RR</td>\n",
       "      <td>Royals won by 3 wickets (with 0 balls remaining)</td>\n",
       "    </tr>\n",
       "  </tbody>\n",
       "</table>\n",
       "<p>1032 rows × 2 columns</p>\n",
       "</div>"
      ],
      "text/plain": [
       "     winner                                             result\n",
       "0        GT                         Starts at 19:30 local time\n",
       "1        MI                         Starts at 19:30 local time\n",
       "2       TBA                         Starts at 19:30 local time\n",
       "3       TBA                         Starts at 19:30 local time\n",
       "4        GT                      Titans won by 6 wkts (5b rem)\n",
       "...     ...                                                ...\n",
       "1027     MI  Mum Indians won by 9 wickets (with 12 balls re...\n",
       "1028   KXIP                            Kings XI won by 41 runs\n",
       "1029     RR                             Royals won by 105 runs\n",
       "1030    CSK  Super Kings won by 9 wickets (with 31 balls re...\n",
       "1031     RR   Royals won by 3 wickets (with 0 balls remaining)\n",
       "\n",
       "[1032 rows x 2 columns]"
      ]
     },
     "execution_count": 21,
     "metadata": {},
     "output_type": "execute_result"
    }
   ],
   "source": [
    "data[['winner','result']]"
   ]
  },
  {
   "cell_type": "code",
   "execution_count": 22,
   "id": "4bbe51bc-3e08-4e1b-ac64-cdd5bb58017f",
   "metadata": {},
   "outputs": [
    {
     "data": {
      "text/plain": [
       "MI       140\n",
       "CSK      132\n",
       "KKR      123\n",
       "RCB      116\n",
       "SRH      111\n",
       "DC       107\n",
       "RR       106\n",
       "KXIP      88\n",
       "GT        23\n",
       "PBKS      19\n",
       "LSG       17\n",
       "RPS       15\n",
       "GL        13\n",
       "PWI       13\n",
       "Kochi      6\n",
       "TBA        2\n",
       "Name: winner, dtype: int64"
      ]
     },
     "execution_count": 22,
     "metadata": {},
     "output_type": "execute_result"
    }
   ],
   "source": [
    "hw=data['winner'].value_counts()\n",
    "hw"
   ]
  },
  {
   "cell_type": "code",
   "execution_count": 23,
   "id": "0064577d-b3b4-4c95-8d2c-3130dc8224db",
   "metadata": {},
   "outputs": [
    {
     "data": {
      "image/png": "[encoded data removed]",
      "text/plain": [
       "<Figure size 720x360 with 1 Axes>"
      ]
     },
     "metadata": {},
     "output_type": "display_data"
    }
   ],
   "source": [
    "plt.figure(figsize=(10,5))\n",
    "plt.pie(hw,labels=hw.index,autopct=\"%.1f%%\",startangle=140)\n",
    "plt.show()"
   ]
  },
  {
   "cell_type": "markdown",
   "id": "50657596-f501-4954-a378-9380fa320ea9",
   "metadata": {},
   "source": [
    " MI has highest win across all season \n",
    " CSK ,KKR ,RCB IN order"
   ]
  },
  {
   "cell_type": "markdown",
   "id": "86750308-bbb8-4648-8b62-b4421e45ff6d",
   "metadata": {},
   "source": [
    "2.FIND WHO HAS MAX MAN OF MATCHES"
   ]
  },
  {
   "cell_type": "code",
   "execution_count": 24,
   "id": "2de194b7-a76d-40e6-99e8-c8ceee89150e",
   "metadata": {},
   "outputs": [
    {
     "data": {
      "text/plain": [
       "AB de Villiers     25\n",
       "Chris Gayle        22\n",
       "Rohit Sharma       19\n",
       "David Warner       18\n",
       "MS Dhoni           17\n",
       "Virat Kohli        16\n",
       "Yusuf Pathan       16\n",
       "Shane Watson       16\n",
       "Kieron Pollard     14\n",
       "Suresh Raina       14\n",
       "Ravindra Jadeja    14\n",
       "Ajinkya Rahane     13\n",
       "Gautam Gambhir     13\n",
       "Andre Russell      13\n",
       "KL Rahul           12\n",
       "Sunil Narine       12\n",
       "Amit Mishra        12\n",
       "Shikhar Dhawan     12\n",
       "Michael Hussey     12\n",
       "Jos Buttler        11\n",
       "Dwayne Smith       11\n",
       "Virender Sehwag    11\n",
       "Rashid Khan        11\n",
       "Jacques Kallis     10\n",
       "Ambati Rayudu      10\n",
       "Name: pom, dtype: int64"
      ]
     },
     "execution_count": 24,
     "metadata": {},
     "output_type": "execute_result"
    }
   ],
   "source": [
    "data[\"pom\"].value_counts().head(25)"
   ]
  },
  {
   "cell_type": "markdown",
   "id": "fe425a94-9e1f-42eb-8a00-efac76c8f9b9",
   "metadata": {},
   "source": [
    "ABD HAS MAX POM "
   ]
  },
  {
   "cell_type": "markdown",
   "id": "cd25ccb6-af63-4526-b2ec-23b0e081e41c",
   "metadata": {},
   "source": [
    "3.Find out who was home key batsman for there teams "
   ]
  },
  {
   "cell_type": "code",
   "execution_count": 25,
   "id": "1dfe0278-1e40-44d4-ab77-bf42dc857450",
   "metadata": {},
   "outputs": [
    {
     "data": {
      "text/plain": [
       "home_team  home_key_batsman              \n",
       "CSK        Suresh Raina,MS Dhoni             6\n",
       "           Matthew Hayden,MS Dhoni           5\n",
       "           Michael Hussey,Suresh Raina       4\n",
       "           Devon Conway,Ruturaj Gaikwad      4\n",
       "           Suresh Raina,Michael Hussey       3\n",
       "                                            ..\n",
       "SRH        Parthiv Patel,Karn Sharma         1\n",
       "           Parthiv Patel,Shikhar Dhawan      1\n",
       "           Rahul Tripathi,Nicholas Pooran    1\n",
       "           Ravi Bopara,David Warner          1\n",
       "           Yuvraj Singh,Moises Henriques     1\n",
       "Length: 793, dtype: int64"
      ]
     },
     "execution_count": 25,
     "metadata": {},
     "output_type": "execute_result"
    }
   ],
   "source": [
    "(data.groupby(\"home_team\")[[\"home_key_batsman\"]].value_counts())"
   ]
  },
  {
   "cell_type": "markdown",
   "id": "405bc778-fafc-4bc1-8c8a-a8c95525a2c8",
   "metadata": {},
   "source": [
    "4. FINDING WHAT WAS THE MAX SCORE IN A SEASON AND WHO SCORED IT"
   ]
  },
  {
   "cell_type": "code",
   "execution_count": 26,
   "id": "baa5aaf0-b84c-497d-9b10-05e8c0eb15cb",
   "metadata": {},
   "outputs": [
    {
     "data": {
      "text/plain": [
       "Index(['season', 'id', 'name', 'short_name', 'description', 'home_team',\n",
       "       'away_team', 'toss_won', 'decision', '1st_inning_score',\n",
       "       '2nd_inning_score', 'winner', 'result', 'start_date', 'end_date',\n",
       "       'venue_id', 'venue_name', 'home_captain', 'away_captain', 'pom',\n",
       "       'points', 'super_over', 'home_overs', 'home_runs', 'home_wickets',\n",
       "       'home_boundaries', 'away_overs', 'away_runs', 'away_wickets',\n",
       "       'away_boundaries', 'highlights', 'home_key_batsman', 'home_key_bowler',\n",
       "       'home_playx1', 'away_playx1', 'away_key_batsman', 'away_key_bowler',\n",
       "       'match_days', 'umpire1', 'umpire2', 'tv_umpire', 'referee',\n",
       "       'reserve_umpire'],\n",
       "      dtype='object')"
      ]
     },
     "execution_count": 26,
     "metadata": {},
     "output_type": "execute_result"
    }
   ],
   "source": [
    "data.columns"
   ]
  },
  {
   "cell_type": "code",
   "execution_count": 27,
   "id": "ecd20617-e5e1-4767-bafc-286395175f61",
   "metadata": {},
   "outputs": [
    {
     "data": {
      "text/html": [
       "<div>\n",
       "<style scoped>\n",
       "    .dataframe tbody tr th:only-of-type {\n",
       "        vertical-align: middle;\n",
       "    }\n",
       "\n",
       "    .dataframe tbody tr th {\n",
       "        vertical-align: top;\n",
       "    }\n",
       "\n",
       "    .dataframe thead th {\n",
       "        text-align: right;\n",
       "    }\n",
       "</style>\n",
       "<table border=\"1\" class=\"dataframe\">\n",
       "  <thead>\n",
       "    <tr style=\"text-align: right;\">\n",
       "      <th></th>\n",
       "      <th>season</th>\n",
       "      <th>home_runs</th>\n",
       "      <th>away_runs</th>\n",
       "    </tr>\n",
       "  </thead>\n",
       "  <tbody>\n",
       "    <tr>\n",
       "      <th>0</th>\n",
       "      <td>2008.0</td>\n",
       "      <td>221.0</td>\n",
       "      <td>240.0</td>\n",
       "    </tr>\n",
       "    <tr>\n",
       "      <th>1</th>\n",
       "      <td>2009.0</td>\n",
       "      <td>188.0</td>\n",
       "      <td>211.0</td>\n",
       "    </tr>\n",
       "    <tr>\n",
       "      <th>2</th>\n",
       "      <td>2010.0</td>\n",
       "      <td>246.0</td>\n",
       "      <td>223.0</td>\n",
       "    </tr>\n",
       "    <tr>\n",
       "      <th>3</th>\n",
       "      <td>2011.0</td>\n",
       "      <td>232.0</td>\n",
       "      <td>202.0</td>\n",
       "    </tr>\n",
       "    <tr>\n",
       "      <th>4</th>\n",
       "      <td>2012.0</td>\n",
       "      <td>222.0</td>\n",
       "      <td>215.0</td>\n",
       "    </tr>\n",
       "    <tr>\n",
       "      <th>5</th>\n",
       "      <td>2013.0</td>\n",
       "      <td>263.0</td>\n",
       "      <td>223.0</td>\n",
       "    </tr>\n",
       "    <tr>\n",
       "      <th>6</th>\n",
       "      <td>2014.0</td>\n",
       "      <td>231.0</td>\n",
       "      <td>226.0</td>\n",
       "    </tr>\n",
       "    <tr>\n",
       "      <th>7</th>\n",
       "      <td>2015.0</td>\n",
       "      <td>226.0</td>\n",
       "      <td>235.0</td>\n",
       "    </tr>\n",
       "    <tr>\n",
       "      <th>8</th>\n",
       "      <td>2016.0</td>\n",
       "      <td>248.0</td>\n",
       "      <td>208.0</td>\n",
       "    </tr>\n",
       "    <tr>\n",
       "      <th>9</th>\n",
       "      <td>2017.0</td>\n",
       "      <td>223.0</td>\n",
       "      <td>230.0</td>\n",
       "    </tr>\n",
       "    <tr>\n",
       "      <th>10</th>\n",
       "      <td>2018.0</td>\n",
       "      <td>219.0</td>\n",
       "      <td>245.0</td>\n",
       "    </tr>\n",
       "    <tr>\n",
       "      <th>11</th>\n",
       "      <td>2019.0</td>\n",
       "      <td>232.0</td>\n",
       "      <td>213.0</td>\n",
       "    </tr>\n",
       "    <tr>\n",
       "      <th>12</th>\n",
       "      <td>2020.0</td>\n",
       "      <td>228.0</td>\n",
       "      <td>223.0</td>\n",
       "    </tr>\n",
       "    <tr>\n",
       "      <th>13</th>\n",
       "      <td>2021.0</td>\n",
       "      <td>220.0</td>\n",
       "      <td>235.0</td>\n",
       "    </tr>\n",
       "    <tr>\n",
       "      <th>14</th>\n",
       "      <td>2022.0</td>\n",
       "      <td>217.0</td>\n",
       "      <td>222.0</td>\n",
       "    </tr>\n",
       "    <tr>\n",
       "      <th>15</th>\n",
       "      <td>2023.0</td>\n",
       "      <td>227.0</td>\n",
       "      <td>257.0</td>\n",
       "    </tr>\n",
       "  </tbody>\n",
       "</table>\n",
       "</div>"
      ],
      "text/plain": [
       "    season  home_runs  away_runs\n",
       "0   2008.0      221.0      240.0\n",
       "1   2009.0      188.0      211.0\n",
       "2   2010.0      246.0      223.0\n",
       "3   2011.0      232.0      202.0\n",
       "4   2012.0      222.0      215.0\n",
       "5   2013.0      263.0      223.0\n",
       "6   2014.0      231.0      226.0\n",
       "7   2015.0      226.0      235.0\n",
       "8   2016.0      248.0      208.0\n",
       "9   2017.0      223.0      230.0\n",
       "10  2018.0      219.0      245.0\n",
       "11  2019.0      232.0      213.0\n",
       "12  2020.0      228.0      223.0\n",
       "13  2021.0      220.0      235.0\n",
       "14  2022.0      217.0      222.0\n",
       "15  2023.0      227.0      257.0"
      ]
     },
     "execution_count": 27,
     "metadata": {},
     "output_type": "execute_result"
    }
   ],
   "source": [
    "data.groupby([\"season\"])[[\"home_runs\",\"away_runs\"]].max().reset_index()"
   ]
  },
  {
   "cell_type": "code",
   "execution_count": 28,
   "id": "a664e690-7381-41d3-bb4d-a1e204421954",
   "metadata": {},
   "outputs": [],
   "source": [
    "data[\"highest_runs\"]=np.where(data[\"home_runs\"]>data[\"away_runs\"],\n",
    "                              data[\"home_runs\"],\n",
    "                              data[\"away_runs\"])\n",
    "data[\"highest_run_team\"]=np.where(data[\"home_runs\"]>data[\"away_runs\"],\n",
    "                                  data[\"home_team\"],\n",
    "                                  data[\"away_team\"])"
   ]
  },
  {
   "cell_type": "code",
   "execution_count": 29,
   "id": "d6603ff4-ecdc-41c6-a629-1006842489cf",
   "metadata": {},
   "outputs": [
    {
     "data": {
      "text/plain": [
       "Index(['season', 'id', 'name', 'short_name', 'description', 'home_team',\n",
       "       'away_team', 'toss_won', 'decision', '1st_inning_score',\n",
       "       '2nd_inning_score', 'winner', 'result', 'start_date', 'end_date',\n",
       "       'venue_id', 'venue_name', 'home_captain', 'away_captain', 'pom',\n",
       "       'points', 'super_over', 'home_overs', 'home_runs', 'home_wickets',\n",
       "       'home_boundaries', 'away_overs', 'away_runs', 'away_wickets',\n",
       "       'away_boundaries', 'highlights', 'home_key_batsman', 'home_key_bowler',\n",
       "       'home_playx1', 'away_playx1', 'away_key_batsman', 'away_key_bowler',\n",
       "       'match_days', 'umpire1', 'umpire2', 'tv_umpire', 'referee',\n",
       "       'reserve_umpire', 'highest_runs', 'highest_run_team'],\n",
       "      dtype='object')"
      ]
     },
     "execution_count": 29,
     "metadata": {},
     "output_type": "execute_result"
    }
   ],
   "source": [
    "data.columns"
   ]
  },
  {
   "cell_type": "code",
   "execution_count": 30,
   "id": "6a8c79c2-9c35-4c00-bcdb-1b5fdf77381f",
   "metadata": {},
   "outputs": [
    {
     "data": {
      "text/html": [
       "<div>\n",
       "<style scoped>\n",
       "    .dataframe tbody tr th:only-of-type {\n",
       "        vertical-align: middle;\n",
       "    }\n",
       "\n",
       "    .dataframe tbody tr th {\n",
       "        vertical-align: top;\n",
       "    }\n",
       "\n",
       "    .dataframe thead th {\n",
       "        text-align: right;\n",
       "    }\n",
       "</style>\n",
       "<table border=\"1\" class=\"dataframe\">\n",
       "  <thead>\n",
       "    <tr style=\"text-align: right;\">\n",
       "      <th></th>\n",
       "      <th>season</th>\n",
       "      <th>highest_runs</th>\n",
       "      <th>highest_run_team</th>\n",
       "    </tr>\n",
       "  </thead>\n",
       "  <tbody>\n",
       "    <tr>\n",
       "      <th>15</th>\n",
       "      <td>2008.0</td>\n",
       "      <td>240.0</td>\n",
       "      <td>CSK</td>\n",
       "    </tr>\n",
       "    <tr>\n",
       "      <th>14</th>\n",
       "      <td>2009.0</td>\n",
       "      <td>211.0</td>\n",
       "      <td>RR</td>\n",
       "    </tr>\n",
       "    <tr>\n",
       "      <th>13</th>\n",
       "      <td>2010.0</td>\n",
       "      <td>246.0</td>\n",
       "      <td>CSK</td>\n",
       "    </tr>\n",
       "    <tr>\n",
       "      <th>12</th>\n",
       "      <td>2011.0</td>\n",
       "      <td>232.0</td>\n",
       "      <td>KXIP</td>\n",
       "    </tr>\n",
       "    <tr>\n",
       "      <th>11</th>\n",
       "      <td>2012.0</td>\n",
       "      <td>222.0</td>\n",
       "      <td>CSK</td>\n",
       "    </tr>\n",
       "    <tr>\n",
       "      <th>10</th>\n",
       "      <td>2013.0</td>\n",
       "      <td>263.0</td>\n",
       "      <td>RCB</td>\n",
       "    </tr>\n",
       "    <tr>\n",
       "      <th>9</th>\n",
       "      <td>2014.0</td>\n",
       "      <td>231.0</td>\n",
       "      <td>KXIP</td>\n",
       "    </tr>\n",
       "    <tr>\n",
       "      <th>8</th>\n",
       "      <td>2015.0</td>\n",
       "      <td>235.0</td>\n",
       "      <td>RCB</td>\n",
       "    </tr>\n",
       "    <tr>\n",
       "      <th>7</th>\n",
       "      <td>2016.0</td>\n",
       "      <td>248.0</td>\n",
       "      <td>RCB</td>\n",
       "    </tr>\n",
       "    <tr>\n",
       "      <th>6</th>\n",
       "      <td>2017.0</td>\n",
       "      <td>230.0</td>\n",
       "      <td>KXIP</td>\n",
       "    </tr>\n",
       "    <tr>\n",
       "      <th>5</th>\n",
       "      <td>2018.0</td>\n",
       "      <td>245.0</td>\n",
       "      <td>KKR</td>\n",
       "    </tr>\n",
       "    <tr>\n",
       "      <th>4</th>\n",
       "      <td>2019.0</td>\n",
       "      <td>232.0</td>\n",
       "      <td>KKR</td>\n",
       "    </tr>\n",
       "    <tr>\n",
       "      <th>3</th>\n",
       "      <td>2020.0</td>\n",
       "      <td>228.0</td>\n",
       "      <td>DC</td>\n",
       "    </tr>\n",
       "    <tr>\n",
       "      <th>2</th>\n",
       "      <td>2021.0</td>\n",
       "      <td>235.0</td>\n",
       "      <td>MI</td>\n",
       "    </tr>\n",
       "    <tr>\n",
       "      <th>1</th>\n",
       "      <td>2022.0</td>\n",
       "      <td>222.0</td>\n",
       "      <td>RR</td>\n",
       "    </tr>\n",
       "    <tr>\n",
       "      <th>0</th>\n",
       "      <td>2023.0</td>\n",
       "      <td>257.0</td>\n",
       "      <td>LSG</td>\n",
       "    </tr>\n",
       "  </tbody>\n",
       "</table>\n",
       "</div>"
      ],
      "text/plain": [
       "    season  highest_runs highest_run_team\n",
       "15  2008.0         240.0              CSK\n",
       "14  2009.0         211.0               RR\n",
       "13  2010.0         246.0              CSK\n",
       "12  2011.0         232.0             KXIP\n",
       "11  2012.0         222.0              CSK\n",
       "10  2013.0         263.0              RCB\n",
       "9   2014.0         231.0             KXIP\n",
       "8   2015.0         235.0              RCB\n",
       "7   2016.0         248.0              RCB\n",
       "6   2017.0         230.0             KXIP\n",
       "5   2018.0         245.0              KKR\n",
       "4   2019.0         232.0              KKR\n",
       "3   2020.0         228.0               DC\n",
       "2   2021.0         235.0               MI\n",
       "1   2022.0         222.0               RR\n",
       "0   2023.0         257.0              LSG"
      ]
     },
     "execution_count": 30,
     "metadata": {},
     "output_type": "execute_result"
    }
   ],
   "source": [
    "data2=[]\n",
    "for i in data[\"season\"].unique():\n",
    "    data1=data[data[\"season\"]==i]\n",
    "    data1=data1.sort_values(by=\"highest_runs\",ascending=False).head(1).reset_index()\n",
    "    data2.append(data1[[\"season\",\"highest_runs\",\"highest_run_team\"]])\n",
    "    \n",
    "df=pd.concat(data2,ignore_index=True)\n",
    "df.sort_values(by=\"season\",ascending=True)"
   ]
  },
  {
   "cell_type": "code",
   "execution_count": 31,
   "id": "b9830806-7ee8-4c49-b33d-8dba5e0735c0",
   "metadata": {},
   "outputs": [
    {
     "data": {
      "text/html": [
       "<div>\n",
       "<style scoped>\n",
       "    .dataframe tbody tr th:only-of-type {\n",
       "        vertical-align: middle;\n",
       "    }\n",
       "\n",
       "    .dataframe tbody tr th {\n",
       "        vertical-align: top;\n",
       "    }\n",
       "\n",
       "    .dataframe thead th {\n",
       "        text-align: right;\n",
       "    }\n",
       "</style>\n",
       "<table border=\"1\" class=\"dataframe\">\n",
       "  <thead>\n",
       "    <tr style=\"text-align: right;\">\n",
       "      <th></th>\n",
       "      <th>season</th>\n",
       "      <th>highest_runs</th>\n",
       "      <th>highest_run_team</th>\n",
       "    </tr>\n",
       "  </thead>\n",
       "  <tbody>\n",
       "    <tr>\n",
       "      <th>10</th>\n",
       "      <td>2013.0</td>\n",
       "      <td>263.0</td>\n",
       "      <td>RCB</td>\n",
       "    </tr>\n",
       "    <tr>\n",
       "      <th>0</th>\n",
       "      <td>2023.0</td>\n",
       "      <td>257.0</td>\n",
       "      <td>LSG</td>\n",
       "    </tr>\n",
       "    <tr>\n",
       "      <th>7</th>\n",
       "      <td>2016.0</td>\n",
       "      <td>248.0</td>\n",
       "      <td>RCB</td>\n",
       "    </tr>\n",
       "    <tr>\n",
       "      <th>13</th>\n",
       "      <td>2010.0</td>\n",
       "      <td>246.0</td>\n",
       "      <td>CSK</td>\n",
       "    </tr>\n",
       "    <tr>\n",
       "      <th>5</th>\n",
       "      <td>2018.0</td>\n",
       "      <td>245.0</td>\n",
       "      <td>KKR</td>\n",
       "    </tr>\n",
       "    <tr>\n",
       "      <th>15</th>\n",
       "      <td>2008.0</td>\n",
       "      <td>240.0</td>\n",
       "      <td>CSK</td>\n",
       "    </tr>\n",
       "    <tr>\n",
       "      <th>2</th>\n",
       "      <td>2021.0</td>\n",
       "      <td>235.0</td>\n",
       "      <td>MI</td>\n",
       "    </tr>\n",
       "    <tr>\n",
       "      <th>8</th>\n",
       "      <td>2015.0</td>\n",
       "      <td>235.0</td>\n",
       "      <td>RCB</td>\n",
       "    </tr>\n",
       "    <tr>\n",
       "      <th>4</th>\n",
       "      <td>2019.0</td>\n",
       "      <td>232.0</td>\n",
       "      <td>KKR</td>\n",
       "    </tr>\n",
       "    <tr>\n",
       "      <th>12</th>\n",
       "      <td>2011.0</td>\n",
       "      <td>232.0</td>\n",
       "      <td>KXIP</td>\n",
       "    </tr>\n",
       "    <tr>\n",
       "      <th>9</th>\n",
       "      <td>2014.0</td>\n",
       "      <td>231.0</td>\n",
       "      <td>KXIP</td>\n",
       "    </tr>\n",
       "    <tr>\n",
       "      <th>6</th>\n",
       "      <td>2017.0</td>\n",
       "      <td>230.0</td>\n",
       "      <td>KXIP</td>\n",
       "    </tr>\n",
       "    <tr>\n",
       "      <th>3</th>\n",
       "      <td>2020.0</td>\n",
       "      <td>228.0</td>\n",
       "      <td>DC</td>\n",
       "    </tr>\n",
       "    <tr>\n",
       "      <th>1</th>\n",
       "      <td>2022.0</td>\n",
       "      <td>222.0</td>\n",
       "      <td>RR</td>\n",
       "    </tr>\n",
       "    <tr>\n",
       "      <th>11</th>\n",
       "      <td>2012.0</td>\n",
       "      <td>222.0</td>\n",
       "      <td>CSK</td>\n",
       "    </tr>\n",
       "    <tr>\n",
       "      <th>14</th>\n",
       "      <td>2009.0</td>\n",
       "      <td>211.0</td>\n",
       "      <td>RR</td>\n",
       "    </tr>\n",
       "  </tbody>\n",
       "</table>\n",
       "</div>"
      ],
      "text/plain": [
       "    season  highest_runs highest_run_team\n",
       "10  2013.0         263.0              RCB\n",
       "0   2023.0         257.0              LSG\n",
       "7   2016.0         248.0              RCB\n",
       "13  2010.0         246.0              CSK\n",
       "5   2018.0         245.0              KKR\n",
       "15  2008.0         240.0              CSK\n",
       "2   2021.0         235.0               MI\n",
       "8   2015.0         235.0              RCB\n",
       "4   2019.0         232.0              KKR\n",
       "12  2011.0         232.0             KXIP\n",
       "9   2014.0         231.0             KXIP\n",
       "6   2017.0         230.0             KXIP\n",
       "3   2020.0         228.0               DC\n",
       "1   2022.0         222.0               RR\n",
       "11  2012.0         222.0              CSK\n",
       "14  2009.0         211.0               RR"
      ]
     },
     "execution_count": 31,
     "metadata": {},
     "output_type": "execute_result"
    }
   ],
   "source": [
    "df.sort_values(by=\"highest_runs\",ascending=False)"
   ]
  },
  {
   "cell_type": "code",
   "execution_count": 32,
   "id": "242528fd-32d6-454d-b2d8-b2de2a142d79",
   "metadata": {},
   "outputs": [
    {
     "data": {
      "text/plain": [
       "KXIP    3\n",
       "RCB     3\n",
       "CSK     3\n",
       "RR      2\n",
       "KKR     2\n",
       "LSG     1\n",
       "MI      1\n",
       "DC      1\n",
       "Name: highest_run_team, dtype: int64"
      ]
     },
     "execution_count": 32,
     "metadata": {},
     "output_type": "execute_result"
    }
   ],
   "source": [
    "df[\"highest_run_team\"].value_counts()"
   ]
  },
  {
   "cell_type": "markdown",
   "id": "67b6e08a-4b66-466b-90e9-202153c8051e",
   "metadata": {},
   "source": [
    "Analsysis are : RCB in 2016 has scored highest ever in IPL history \n",
    "                  ,RCB,PUNJAB,CSK Have scored 3 each max score(9) in all season."
   ]
  },
  {
   "cell_type": "code",
   "execution_count": 33,
   "id": "1015ab9a-07bc-400f-b27e-ceb62601d711",
   "metadata": {},
   "outputs": [],
   "source": [
    "# capatin who has captained more home matches data"
   ]
  },
  {
   "cell_type": "code",
   "execution_count": 34,
   "id": "18d94fba-b4f6-4aa2-8de6-c3eff01356fd",
   "metadata": {},
   "outputs": [
    {
     "data": {
      "text/plain": [
       "MS Dhoni          124\n",
       "Rohit Sharma       80\n",
       "Virat Kohli        73\n",
       "Gautam Gambhir     63\n",
       "Adam Gilchrist     42\n",
       "Name: home_captain, dtype: int64"
      ]
     },
     "execution_count": 34,
     "metadata": {},
     "output_type": "execute_result"
    }
   ],
   "source": [
    "data[\"home_captain\"].value_counts().head()"
   ]
  },
  {
   "cell_type": "code",
   "execution_count": 35,
   "id": "92b1fc11-905d-4b24-b7a8-5f76b2efcfce",
   "metadata": {},
   "outputs": [
    {
     "data": {
      "text/plain": [
       "MS Dhoni          100\n",
       "Rohit Sharma       76\n",
       "Virat Kohli        71\n",
       "Gautam Gambhir     68\n",
       "David Warner       44\n",
       "Name: away_captain, dtype: int64"
      ]
     },
     "execution_count": 35,
     "metadata": {},
     "output_type": "execute_result"
    }
   ],
   "source": [
    "data[\"away_captain\"].value_counts().head()"
   ]
  },
  {
   "cell_type": "code",
   "execution_count": 36,
   "id": "00fa2c98-566c-43f2-a261-c6509a9ea10d",
   "metadata": {},
   "outputs": [],
   "source": [
    "# MS DHONI , RS,VK HAVE MAX CAPATINCY "
   ]
  },
  {
   "cell_type": "markdown",
   "id": "4c09b445-a859-4751-b899-a63b9a32bbdd",
   "metadata": {},
   "source": [
    "# 2.Trend AND PATTERNS Analysis "
   ]
  },
  {
   "cell_type": "markdown",
   "id": "860504fa-6983-4a76-a0fb-6301277b4c12",
   "metadata": {},
   "source": [
    "1.Calculate the teams wins while batting 1 st and chasing"
   ]
  },
  {
   "cell_type": "code",
   "execution_count": 107,
   "id": "cb84ee2f-d4fb-415c-a562-e862c2192ece",
   "metadata": {},
   "outputs": [
    {
     "data": {
      "text/html": [
       "<div>\n",
       "<style scoped>\n",
       "    .dataframe tbody tr th:only-of-type {\n",
       "        vertical-align: middle;\n",
       "    }\n",
       "\n",
       "    .dataframe tbody tr th {\n",
       "        vertical-align: top;\n",
       "    }\n",
       "\n",
       "    .dataframe thead th {\n",
       "        text-align: right;\n",
       "    }\n",
       "</style>\n",
       "<table border=\"1\" class=\"dataframe\">\n",
       "  <thead>\n",
       "    <tr style=\"text-align: right;\">\n",
       "      <th></th>\n",
       "      <th>decision</th>\n",
       "      <th>winner</th>\n",
       "      <th>0</th>\n",
       "    </tr>\n",
       "  </thead>\n",
       "  <tbody>\n",
       "    <tr>\n",
       "      <th>0</th>\n",
       "      <td>BAT FIRST</td>\n",
       "      <td>CSK</td>\n",
       "      <td>61</td>\n",
       "    </tr>\n",
       "    <tr>\n",
       "      <th>1</th>\n",
       "      <td>BAT FIRST</td>\n",
       "      <td>MI</td>\n",
       "      <td>52</td>\n",
       "    </tr>\n",
       "    <tr>\n",
       "      <th>2</th>\n",
       "      <td>BAT FIRST</td>\n",
       "      <td>KKR</td>\n",
       "      <td>47</td>\n",
       "    </tr>\n",
       "    <tr>\n",
       "      <th>3</th>\n",
       "      <td>BAT FIRST</td>\n",
       "      <td>SRH</td>\n",
       "      <td>43</td>\n",
       "    </tr>\n",
       "    <tr>\n",
       "      <th>4</th>\n",
       "      <td>BAT FIRST</td>\n",
       "      <td>RR</td>\n",
       "      <td>40</td>\n",
       "    </tr>\n",
       "    <tr>\n",
       "      <th>5</th>\n",
       "      <td>BAT FIRST</td>\n",
       "      <td>DC</td>\n",
       "      <td>39</td>\n",
       "    </tr>\n",
       "    <tr>\n",
       "      <th>6</th>\n",
       "      <td>BAT FIRST</td>\n",
       "      <td>RCB</td>\n",
       "      <td>37</td>\n",
       "    </tr>\n",
       "    <tr>\n",
       "      <th>7</th>\n",
       "      <td>BAT FIRST</td>\n",
       "      <td>KXIP</td>\n",
       "      <td>24</td>\n",
       "    </tr>\n",
       "    <tr>\n",
       "      <th>8</th>\n",
       "      <td>BAT FIRST</td>\n",
       "      <td>PWI</td>\n",
       "      <td>10</td>\n",
       "    </tr>\n",
       "    <tr>\n",
       "      <th>9</th>\n",
       "      <td>BAT FIRST</td>\n",
       "      <td>GT</td>\n",
       "      <td>7</td>\n",
       "    </tr>\n",
       "    <tr>\n",
       "      <th>10</th>\n",
       "      <td>BAT FIRST</td>\n",
       "      <td>LSG</td>\n",
       "      <td>4</td>\n",
       "    </tr>\n",
       "    <tr>\n",
       "      <th>11</th>\n",
       "      <td>BAT FIRST</td>\n",
       "      <td>PBKS</td>\n",
       "      <td>3</td>\n",
       "    </tr>\n",
       "    <tr>\n",
       "      <th>12</th>\n",
       "      <td>BAT FIRST</td>\n",
       "      <td>RPS</td>\n",
       "      <td>2</td>\n",
       "    </tr>\n",
       "    <tr>\n",
       "      <th>13</th>\n",
       "      <td>BAT FIRST</td>\n",
       "      <td>GL</td>\n",
       "      <td>2</td>\n",
       "    </tr>\n",
       "    <tr>\n",
       "      <th>14</th>\n",
       "      <td>BOWL FIRST</td>\n",
       "      <td>MI</td>\n",
       "      <td>87</td>\n",
       "    </tr>\n",
       "    <tr>\n",
       "      <th>15</th>\n",
       "      <td>BOWL FIRST</td>\n",
       "      <td>RCB</td>\n",
       "      <td>79</td>\n",
       "    </tr>\n",
       "    <tr>\n",
       "      <th>16</th>\n",
       "      <td>BOWL FIRST</td>\n",
       "      <td>KKR</td>\n",
       "      <td>74</td>\n",
       "    </tr>\n",
       "    <tr>\n",
       "      <th>17</th>\n",
       "      <td>BOWL FIRST</td>\n",
       "      <td>CSK</td>\n",
       "      <td>70</td>\n",
       "    </tr>\n",
       "    <tr>\n",
       "      <th>18</th>\n",
       "      <td>BOWL FIRST</td>\n",
       "      <td>SRH</td>\n",
       "      <td>68</td>\n",
       "    </tr>\n",
       "    <tr>\n",
       "      <th>19</th>\n",
       "      <td>BOWL FIRST</td>\n",
       "      <td>DC</td>\n",
       "      <td>67</td>\n",
       "    </tr>\n",
       "    <tr>\n",
       "      <th>20</th>\n",
       "      <td>BOWL FIRST</td>\n",
       "      <td>KXIP</td>\n",
       "      <td>64</td>\n",
       "    </tr>\n",
       "    <tr>\n",
       "      <th>21</th>\n",
       "      <td>BOWL FIRST</td>\n",
       "      <td>RR</td>\n",
       "      <td>63</td>\n",
       "    </tr>\n",
       "    <tr>\n",
       "      <th>22</th>\n",
       "      <td>BOWL FIRST</td>\n",
       "      <td>PBKS</td>\n",
       "      <td>16</td>\n",
       "    </tr>\n",
       "    <tr>\n",
       "      <th>23</th>\n",
       "      <td>BOWL FIRST</td>\n",
       "      <td>GT</td>\n",
       "      <td>15</td>\n",
       "    </tr>\n",
       "    <tr>\n",
       "      <th>24</th>\n",
       "      <td>BOWL FIRST</td>\n",
       "      <td>LSG</td>\n",
       "      <td>13</td>\n",
       "    </tr>\n",
       "    <tr>\n",
       "      <th>25</th>\n",
       "      <td>BOWL FIRST</td>\n",
       "      <td>RPS</td>\n",
       "      <td>13</td>\n",
       "    </tr>\n",
       "    <tr>\n",
       "      <th>26</th>\n",
       "      <td>BOWL FIRST</td>\n",
       "      <td>GL</td>\n",
       "      <td>11</td>\n",
       "    </tr>\n",
       "    <tr>\n",
       "      <th>27</th>\n",
       "      <td>BOWL FIRST</td>\n",
       "      <td>Kochi</td>\n",
       "      <td>6</td>\n",
       "    </tr>\n",
       "    <tr>\n",
       "      <th>28</th>\n",
       "      <td>BOWL FIRST</td>\n",
       "      <td>PWI</td>\n",
       "      <td>3</td>\n",
       "    </tr>\n",
       "    <tr>\n",
       "      <th>29</th>\n",
       "      <td>no toss</td>\n",
       "      <td>RR</td>\n",
       "      <td>3</td>\n",
       "    </tr>\n",
       "    <tr>\n",
       "      <th>30</th>\n",
       "      <td>no toss</td>\n",
       "      <td>KKR</td>\n",
       "      <td>2</td>\n",
       "    </tr>\n",
       "    <tr>\n",
       "      <th>31</th>\n",
       "      <td>no toss</td>\n",
       "      <td>DC</td>\n",
       "      <td>1</td>\n",
       "    </tr>\n",
       "  </tbody>\n",
       "</table>\n",
       "</div>"
      ],
      "text/plain": [
       "      decision winner   0\n",
       "0    BAT FIRST    CSK  61\n",
       "1    BAT FIRST     MI  52\n",
       "2    BAT FIRST    KKR  47\n",
       "3    BAT FIRST    SRH  43\n",
       "4    BAT FIRST     RR  40\n",
       "5    BAT FIRST     DC  39\n",
       "6    BAT FIRST    RCB  37\n",
       "7    BAT FIRST   KXIP  24\n",
       "8    BAT FIRST    PWI  10\n",
       "9    BAT FIRST     GT   7\n",
       "10   BAT FIRST    LSG   4\n",
       "11   BAT FIRST   PBKS   3\n",
       "12   BAT FIRST    RPS   2\n",
       "13   BAT FIRST     GL   2\n",
       "14  BOWL FIRST     MI  87\n",
       "15  BOWL FIRST    RCB  79\n",
       "16  BOWL FIRST    KKR  74\n",
       "17  BOWL FIRST    CSK  70\n",
       "18  BOWL FIRST    SRH  68\n",
       "19  BOWL FIRST     DC  67\n",
       "20  BOWL FIRST   KXIP  64\n",
       "21  BOWL FIRST     RR  63\n",
       "22  BOWL FIRST   PBKS  16\n",
       "23  BOWL FIRST     GT  15\n",
       "24  BOWL FIRST    LSG  13\n",
       "25  BOWL FIRST    RPS  13\n",
       "26  BOWL FIRST     GL  11\n",
       "27  BOWL FIRST  Kochi   6\n",
       "28  BOWL FIRST    PWI   3\n",
       "29     no toss     RR   3\n",
       "30     no toss    KKR   2\n",
       "31     no toss     DC   1"
      ]
     },
     "execution_count": 107,
     "metadata": {},
     "output_type": "execute_result"
    }
   ],
   "source": [
    "hc=data.groupby([\"decision\"])[[\"winner\"]].value_counts().reset_index()\n",
    "hc"
   ]
  },
  {
   "cell_type": "code",
   "execution_count": 38,
   "id": "f430442a-bc30-441f-a975-e4f94b016fc9",
   "metadata": {},
   "outputs": [],
   "source": [
    "# CSK LIKES BATTING FIRST \n",
    "# MI,RCB HAS GOOD CHASING RECORD "
   ]
  },
  {
   "cell_type": "markdown",
   "id": "39a37786-bd66-4b20-a419-a19f8645260e",
   "metadata": {},
   "source": [
    "2.Finding team perc won during batt 1st and chasing"
   ]
  },
  {
   "cell_type": "code",
   "execution_count": 39,
   "id": "5ef6a8ad-aa1a-4632-a959-d4d5833b12b6",
   "metadata": {},
   "outputs": [
    {
     "data": {
      "text/html": [
       "<div>\n",
       "<style scoped>\n",
       "    .dataframe tbody tr th:only-of-type {\n",
       "        vertical-align: middle;\n",
       "    }\n",
       "\n",
       "    .dataframe tbody tr th {\n",
       "        vertical-align: top;\n",
       "    }\n",
       "\n",
       "    .dataframe thead th {\n",
       "        text-align: right;\n",
       "    }\n",
       "</style>\n",
       "<table border=\"1\" class=\"dataframe\">\n",
       "  <thead>\n",
       "    <tr style=\"text-align: right;\">\n",
       "      <th></th>\n",
       "      <th>decision</th>\n",
       "      <th>winner</th>\n",
       "    </tr>\n",
       "  </thead>\n",
       "  <tbody>\n",
       "    <tr>\n",
       "      <th>0</th>\n",
       "      <td>BAT FIRST</td>\n",
       "      <td>371</td>\n",
       "    </tr>\n",
       "    <tr>\n",
       "      <th>1</th>\n",
       "      <td>BOWL FIRST</td>\n",
       "      <td>649</td>\n",
       "    </tr>\n",
       "  </tbody>\n",
       "</table>\n",
       "</div>"
      ],
      "text/plain": [
       "     decision  winner\n",
       "0   BAT FIRST     371\n",
       "1  BOWL FIRST     649"
      ]
     },
     "execution_count": 39,
     "metadata": {},
     "output_type": "execute_result"
    }
   ],
   "source": [
    "bf=data.groupby(\"decision\")[\"winner\"].count().reset_index()\n",
    "bf=bf.loc[0:1]\n",
    "bf"
   ]
  },
  {
   "cell_type": "code",
   "execution_count": 40,
   "id": "f437cb80-47b3-4cea-9a1c-0f63d83ff356",
   "metadata": {},
   "outputs": [
    {
     "data": {
      "image/png": "[encoded data removed]",
      "text/plain": [
       "<Figure size 720x360 with 1 Axes>"
      ]
     },
     "metadata": {},
     "output_type": "display_data"
    }
   ],
   "source": [
    "plt.figure(figsize=(10,5))\n",
    "plt.pie(bf[\"winner\"],labels=bf[\"decision\"],autopct=\"%.1f%%\")\n",
    "plt.show()"
   ]
  },
  {
   "cell_type": "code",
   "execution_count": 41,
   "id": "53a722aa-b425-43fc-824b-477a35362c32",
   "metadata": {},
   "outputs": [],
   "source": [
    "# Chasing team has won 64 per of time "
   ]
  },
  {
   "cell_type": "markdown",
   "id": "7c1b9048-90e3-4e74-a5da-5f3539e55c78",
   "metadata": {},
   "source": [
    "3.Finding no of matches won at there home "
   ]
  },
  {
   "cell_type": "code",
   "execution_count": 108,
   "id": "1cb3c1ba-4b97-4179-8945-e37f6e3ff0cb",
   "metadata": {},
   "outputs": [
    {
     "name": "stdout",
     "output_type": "stream",
     "text": [
      "    home_team winner   0\n",
      "0         CSK    CSK  79\n",
      "1         CSK     MI  11\n",
      "2         CSK    KKR   6\n",
      "3         CSK    SRH   6\n",
      "4         CSK     DC   5\n",
      "..        ...    ...  ..\n",
      "148       SRH    RPS   2\n",
      "149       SRH   PBKS   2\n",
      "150       SRH    LSG   2\n",
      "151       SRH    PWI   1\n",
      "152       TBA    TBA   2\n",
      "\n",
      "[153 rows x 3 columns]\n"
     ]
    }
   ],
   "source": [
    "hc=data.groupby(\"home_team\")[[\"winner\"]].value_counts().reset_index()\n",
    "print(hc)"
   ]
  },
  {
   "cell_type": "code",
   "execution_count": 43,
   "id": "6d6f3c22-bed0-4165-8a0f-05a3ea9be003",
   "metadata": {},
   "outputs": [
    {
     "data": {
      "text/html": [
       "<div>\n",
       "<style scoped>\n",
       "    .dataframe tbody tr th:only-of-type {\n",
       "        vertical-align: middle;\n",
       "    }\n",
       "\n",
       "    .dataframe tbody tr th {\n",
       "        vertical-align: top;\n",
       "    }\n",
       "\n",
       "    .dataframe thead th {\n",
       "        text-align: right;\n",
       "    }\n",
       "</style>\n",
       "<table border=\"1\" class=\"dataframe\">\n",
       "  <thead>\n",
       "    <tr style=\"text-align: right;\">\n",
       "      <th></th>\n",
       "      <th>home_team</th>\n",
       "      <th>matches won</th>\n",
       "    </tr>\n",
       "  </thead>\n",
       "  <tbody>\n",
       "    <tr>\n",
       "      <th>0</th>\n",
       "      <td>CSK</td>\n",
       "      <td>79</td>\n",
       "    </tr>\n",
       "    <tr>\n",
       "      <th>1</th>\n",
       "      <td>MI</td>\n",
       "      <td>70</td>\n",
       "    </tr>\n",
       "    <tr>\n",
       "      <th>2</th>\n",
       "      <td>KKR</td>\n",
       "      <td>64</td>\n",
       "    </tr>\n",
       "    <tr>\n",
       "      <th>3</th>\n",
       "      <td>RCB</td>\n",
       "      <td>61</td>\n",
       "    </tr>\n",
       "    <tr>\n",
       "      <th>4</th>\n",
       "      <td>DC</td>\n",
       "      <td>60</td>\n",
       "    </tr>\n",
       "    <tr>\n",
       "      <th>5</th>\n",
       "      <td>SRH</td>\n",
       "      <td>56</td>\n",
       "    </tr>\n",
       "    <tr>\n",
       "      <th>6</th>\n",
       "      <td>RR</td>\n",
       "      <td>56</td>\n",
       "    </tr>\n",
       "    <tr>\n",
       "      <th>7</th>\n",
       "      <td>KXIP</td>\n",
       "      <td>47</td>\n",
       "    </tr>\n",
       "    <tr>\n",
       "      <th>8</th>\n",
       "      <td>GT</td>\n",
       "      <td>11</td>\n",
       "    </tr>\n",
       "    <tr>\n",
       "      <th>9</th>\n",
       "      <td>LSG</td>\n",
       "      <td>7</td>\n",
       "    </tr>\n",
       "    <tr>\n",
       "      <th>10</th>\n",
       "      <td>RPS</td>\n",
       "      <td>7</td>\n",
       "    </tr>\n",
       "    <tr>\n",
       "      <th>11</th>\n",
       "      <td>PWI</td>\n",
       "      <td>6</td>\n",
       "    </tr>\n",
       "    <tr>\n",
       "      <th>12</th>\n",
       "      <td>PBKS</td>\n",
       "      <td>5</td>\n",
       "    </tr>\n",
       "    <tr>\n",
       "      <th>13</th>\n",
       "      <td>GL</td>\n",
       "      <td>5</td>\n",
       "    </tr>\n",
       "    <tr>\n",
       "      <th>14</th>\n",
       "      <td>Kochi</td>\n",
       "      <td>3</td>\n",
       "    </tr>\n",
       "    <tr>\n",
       "      <th>15</th>\n",
       "      <td>TBA</td>\n",
       "      <td>2</td>\n",
       "    </tr>\n",
       "  </tbody>\n",
       "</table>\n",
       "</div>"
      ],
      "text/plain": [
       "   home_team  matches won\n",
       "0        CSK           79\n",
       "1         MI           70\n",
       "2        KKR           64\n",
       "3        RCB           61\n",
       "4         DC           60\n",
       "5        SRH           56\n",
       "6         RR           56\n",
       "7       KXIP           47\n",
       "8         GT           11\n",
       "9        LSG            7\n",
       "10       RPS            7\n",
       "11       PWI            6\n",
       "12      PBKS            5\n",
       "13        GL            5\n",
       "14     Kochi            3\n",
       "15       TBA            2"
      ]
     },
     "execution_count": 43,
     "metadata": {},
     "output_type": "execute_result"
    }
   ],
   "source": [
    "counts={}\n",
    "for home in data[\"home_team\"].unique():\n",
    "    data1=data[data[\"home_team\"]==home]\n",
    "    data1=data1[data1[\"winner\"]==home]\n",
    "    counts[home]=data1[\"winner\"].value_counts().get(home,0)\n",
    "df=pd.DataFrame(list(counts.items()),columns=['home_team',\"matches won\"])\n",
    "df=df.sort_values(by=\"matches won\",ascending=False,ignore_index=True)\n",
    "df"
   ]
  },
  {
   "cell_type": "code",
   "execution_count": 44,
   "id": "8668750c-0c1f-4ee9-b4fd-4e67ae068f86",
   "metadata": {},
   "outputs": [
    {
     "data": {
      "image/png": "[encoded data removed]",
      "text/plain": [
       "<Figure size 720x360 with 1 Axes>"
      ]
     },
     "metadata": {
      "needs_background": "light"
     },
     "output_type": "display_data"
    }
   ],
   "source": [
    "plt.figure(figsize=(10,5))\n",
    "sns.barplot(x=df[\"home_team\"],y=df[\"matches won\"],)\n",
    "plt.xlabel(\"Home team\")\n",
    "plt.ylabel(\"No of matches won at home\")\n",
    "plt.title(\"Home wins\")\n",
    "plt.xticks(rotation=45)\n",
    "plt.show()"
   ]
  },
  {
   "cell_type": "markdown",
   "id": "8389532a-e798-4798-90e0-9f500d0796f8",
   "metadata": {},
   "source": [
    "# CSK HAS highest winning record in home "
   ]
  },
  {
   "cell_type": "markdown",
   "id": "bb2987d1-e9c0-4ac3-896b-c1e54652787f",
   "metadata": {},
   "source": [
    "4.Finding no of matches won at there home "
   ]
  },
  {
   "cell_type": "code",
   "execution_count": 45,
   "id": "90dc1048-64b1-41ee-aa49-58590fd07804",
   "metadata": {},
   "outputs": [
    {
     "data": {
      "text/html": [
       "<div>\n",
       "<style scoped>\n",
       "    .dataframe tbody tr th:only-of-type {\n",
       "        vertical-align: middle;\n",
       "    }\n",
       "\n",
       "    .dataframe tbody tr th {\n",
       "        vertical-align: top;\n",
       "    }\n",
       "\n",
       "    .dataframe thead th {\n",
       "        text-align: right;\n",
       "    }\n",
       "</style>\n",
       "<table border=\"1\" class=\"dataframe\">\n",
       "  <thead>\n",
       "    <tr style=\"text-align: right;\">\n",
       "      <th></th>\n",
       "      <th>away_team</th>\n",
       "      <th>matches won</th>\n",
       "    </tr>\n",
       "  </thead>\n",
       "  <tbody>\n",
       "    <tr>\n",
       "      <th>0</th>\n",
       "      <td>MI</td>\n",
       "      <td>70</td>\n",
       "    </tr>\n",
       "    <tr>\n",
       "      <th>1</th>\n",
       "      <td>KKR</td>\n",
       "      <td>59</td>\n",
       "    </tr>\n",
       "    <tr>\n",
       "      <th>2</th>\n",
       "      <td>SRH</td>\n",
       "      <td>55</td>\n",
       "    </tr>\n",
       "    <tr>\n",
       "      <th>3</th>\n",
       "      <td>RCB</td>\n",
       "      <td>55</td>\n",
       "    </tr>\n",
       "    <tr>\n",
       "      <th>4</th>\n",
       "      <td>CSK</td>\n",
       "      <td>53</td>\n",
       "    </tr>\n",
       "    <tr>\n",
       "      <th>5</th>\n",
       "      <td>RR</td>\n",
       "      <td>50</td>\n",
       "    </tr>\n",
       "    <tr>\n",
       "      <th>6</th>\n",
       "      <td>DC</td>\n",
       "      <td>46</td>\n",
       "    </tr>\n",
       "    <tr>\n",
       "      <th>7</th>\n",
       "      <td>KXIP</td>\n",
       "      <td>41</td>\n",
       "    </tr>\n",
       "    <tr>\n",
       "      <th>8</th>\n",
       "      <td>PBKS</td>\n",
       "      <td>14</td>\n",
       "    </tr>\n",
       "    <tr>\n",
       "      <th>9</th>\n",
       "      <td>GT</td>\n",
       "      <td>12</td>\n",
       "    </tr>\n",
       "    <tr>\n",
       "      <th>10</th>\n",
       "      <td>LSG</td>\n",
       "      <td>10</td>\n",
       "    </tr>\n",
       "    <tr>\n",
       "      <th>11</th>\n",
       "      <td>RPS</td>\n",
       "      <td>8</td>\n",
       "    </tr>\n",
       "    <tr>\n",
       "      <th>12</th>\n",
       "      <td>GL</td>\n",
       "      <td>8</td>\n",
       "    </tr>\n",
       "    <tr>\n",
       "      <th>13</th>\n",
       "      <td>PWI</td>\n",
       "      <td>7</td>\n",
       "    </tr>\n",
       "    <tr>\n",
       "      <th>14</th>\n",
       "      <td>Kochi</td>\n",
       "      <td>3</td>\n",
       "    </tr>\n",
       "    <tr>\n",
       "      <th>15</th>\n",
       "      <td>TBA</td>\n",
       "      <td>2</td>\n",
       "    </tr>\n",
       "  </tbody>\n",
       "</table>\n",
       "</div>"
      ],
      "text/plain": [
       "   away_team  matches won\n",
       "0         MI           70\n",
       "1        KKR           59\n",
       "2        SRH           55\n",
       "3        RCB           55\n",
       "4        CSK           53\n",
       "5         RR           50\n",
       "6         DC           46\n",
       "7       KXIP           41\n",
       "8       PBKS           14\n",
       "9         GT           12\n",
       "10       LSG           10\n",
       "11       RPS            8\n",
       "12        GL            8\n",
       "13       PWI            7\n",
       "14     Kochi            3\n",
       "15       TBA            2"
      ]
     },
     "execution_count": 45,
     "metadata": {},
     "output_type": "execute_result"
    }
   ],
   "source": [
    "counts={}\n",
    "for away in data[\"away_team\"].unique():\n",
    "    data1=data[data[\"away_team\"]==away]\n",
    "    data1=data1[data1[\"winner\"]==away]\n",
    "    counts[away]=data1[\"winner\"].value_counts().get(away,0)\n",
    "df=pd.DataFrame(list(counts.items()),columns=['away_team',\"matches won\"])\n",
    "df=df.sort_values(by=\"matches won\",ascending=False,ignore_index=True)\n",
    "df"
   ]
  },
  {
   "cell_type": "markdown",
   "id": "fdc4dd34-38e1-4882-af6a-4aaf57cafd7e",
   "metadata": {},
   "source": [
    "# MI HAS highest winning record away "
   ]
  },
  {
   "cell_type": "code",
   "execution_count": 46,
   "id": "165e4ecb-568f-4ac4-961a-4d229c33e349",
   "metadata": {},
   "outputs": [
    {
     "data": {
      "image/png": "[encoded data removed]",
      "text/plain": [
       "<Figure size 720x360 with 1 Axes>"
      ]
     },
     "metadata": {
      "needs_background": "light"
     },
     "output_type": "display_data"
    }
   ],
   "source": [
    "plt.figure(figsize=(10,5))\n",
    "sns.barplot(x=df[\"away_team\"],y=df[\"matches won\"],)\n",
    "plt.xlabel(\"Away team\")\n",
    "plt.ylabel(\"No of matches won at away\")\n",
    "plt.title(\"Away wins\")\n",
    "plt.xticks(rotation=45)\n",
    "plt.show()"
   ]
  },
  {
   "cell_type": "markdown",
   "id": "0aa9212a-9852-4ff0-9e9f-2a3ebbd430c7",
   "metadata": {},
   "source": [
    "# 3. TEAM WISE ANALYSIS "
   ]
  },
  {
   "cell_type": "code",
   "execution_count": 47,
   "id": "d17fed69-4bcd-4dd9-bf80-e039696c27e8",
   "metadata": {},
   "outputs": [],
   "source": [
    "# SINCE RCB HAS MORE HYPE WILL ANLAYSE THE RCB TEAMS DETAILS "
   ]
  },
  {
   "cell_type": "code",
   "execution_count": 48,
   "id": "648bf93d-bc13-4602-9d18-593279d3fc5e",
   "metadata": {},
   "outputs": [
    {
     "data": {
      "text/plain": [
       "Index(['season', 'id', 'name', 'short_name', 'description', 'home_team',\n",
       "       'away_team', 'toss_won', 'decision', '1st_inning_score',\n",
       "       '2nd_inning_score', 'winner', 'result', 'start_date', 'end_date',\n",
       "       'venue_id', 'venue_name', 'home_captain', 'away_captain', 'pom',\n",
       "       'points', 'super_over', 'home_overs', 'home_runs', 'home_wickets',\n",
       "       'home_boundaries', 'away_overs', 'away_runs', 'away_wickets',\n",
       "       'away_boundaries', 'highlights', 'home_key_batsman', 'home_key_bowler',\n",
       "       'home_playx1', 'away_playx1', 'away_key_batsman', 'away_key_bowler',\n",
       "       'match_days', 'umpire1', 'umpire2', 'tv_umpire', 'referee',\n",
       "       'reserve_umpire', 'highest_runs', 'highest_run_team'],\n",
       "      dtype='object')"
      ]
     },
     "execution_count": 48,
     "metadata": {},
     "output_type": "execute_result"
    }
   ],
   "source": [
    "data.columns"
   ]
  },
  {
   "cell_type": "code",
   "execution_count": 49,
   "id": "0313ade7-0802-4661-997a-565831892297",
   "metadata": {},
   "outputs": [
    {
     "data": {
      "text/html": [
       "<div>\n",
       "<style scoped>\n",
       "    .dataframe tbody tr th:only-of-type {\n",
       "        vertical-align: middle;\n",
       "    }\n",
       "\n",
       "    .dataframe tbody tr th {\n",
       "        vertical-align: top;\n",
       "    }\n",
       "\n",
       "    .dataframe thead th {\n",
       "        text-align: right;\n",
       "    }\n",
       "</style>\n",
       "<table border=\"1\" class=\"dataframe\">\n",
       "  <thead>\n",
       "    <tr style=\"text-align: right;\">\n",
       "      <th></th>\n",
       "      <th>season</th>\n",
       "      <th>id</th>\n",
       "      <th>name</th>\n",
       "      <th>short_name</th>\n",
       "      <th>description</th>\n",
       "      <th>home_team</th>\n",
       "      <th>away_team</th>\n",
       "      <th>toss_won</th>\n",
       "      <th>decision</th>\n",
       "      <th>1st_inning_score</th>\n",
       "      <th>...</th>\n",
       "      <th>away_key_batsman</th>\n",
       "      <th>away_key_bowler</th>\n",
       "      <th>match_days</th>\n",
       "      <th>umpire1</th>\n",
       "      <th>umpire2</th>\n",
       "      <th>tv_umpire</th>\n",
       "      <th>referee</th>\n",
       "      <th>reserve_umpire</th>\n",
       "      <th>highest_runs</th>\n",
       "      <th>highest_run_team</th>\n",
       "    </tr>\n",
       "  </thead>\n",
       "  <tbody>\n",
       "    <tr>\n",
       "      <th>0</th>\n",
       "      <td>2023.0</td>\n",
       "      <td>1359544</td>\n",
       "      <td>Royal Challengers Bangalore v Gujarat Titans</td>\n",
       "      <td>RCB v GT</td>\n",
       "      <td>70th Match (N), Indian Premier League at Benga...</td>\n",
       "      <td>RCB</td>\n",
       "      <td>GT</td>\n",
       "      <td>GT</td>\n",
       "      <td>BOWL FIRST</td>\n",
       "      <td>197/5</td>\n",
       "      <td>...</td>\n",
       "      <td>Shubman Gill,Vijay Shankar</td>\n",
       "      <td>Noor Ahmad,Rashid Khan</td>\n",
       "      <td>21 May 2023 - night match (20-over match)</td>\n",
       "      <td>Nitin Menon</td>\n",
       "      <td>Virender Sharma</td>\n",
       "      <td>Tapan Sharma</td>\n",
       "      <td>Javagal Srinath</td>\n",
       "      <td>VM  Dhokre</td>\n",
       "      <td>198.0</td>\n",
       "      <td>GT</td>\n",
       "    </tr>\n",
       "    <tr>\n",
       "      <th>1</th>\n",
       "      <td>2023.0</td>\n",
       "      <td>1359510</td>\n",
       "      <td>Royal Challengers Bangalore v Kolkata Knight R...</td>\n",
       "      <td>RCB v KKR</td>\n",
       "      <td>36th Match (N), Indian Premier League at Benga...</td>\n",
       "      <td>RCB</td>\n",
       "      <td>KKR</td>\n",
       "      <td>RCB</td>\n",
       "      <td>BOWL FIRST</td>\n",
       "      <td>200/5</td>\n",
       "      <td>...</td>\n",
       "      <td>Jason Roy,Nitish Rana</td>\n",
       "      <td>Varun Chakravarthy,Andre Russell</td>\n",
       "      <td>26 April 2023 - night match (20-over match)</td>\n",
       "      <td>KN Ananthapadmanabhan</td>\n",
       "      <td>Rohan Pandit</td>\n",
       "      <td>Michael Gough</td>\n",
       "      <td>Amit Sharma</td>\n",
       "      <td>Abhijit Bhattacharya</td>\n",
       "      <td>200.0</td>\n",
       "      <td>KKR</td>\n",
       "    </tr>\n",
       "  </tbody>\n",
       "</table>\n",
       "<p>2 rows × 45 columns</p>\n",
       "</div>"
      ],
      "text/plain": [
       "   season       id                                               name  \\\n",
       "0  2023.0  1359544       Royal Challengers Bangalore v Gujarat Titans   \n",
       "1  2023.0  1359510  Royal Challengers Bangalore v Kolkata Knight R...   \n",
       "\n",
       "  short_name                                        description home_team  \\\n",
       "0   RCB v GT  70th Match (N), Indian Premier League at Benga...       RCB   \n",
       "1  RCB v KKR  36th Match (N), Indian Premier League at Benga...       RCB   \n",
       "\n",
       "  away_team toss_won    decision 1st_inning_score  ...  \\\n",
       "0        GT       GT  BOWL FIRST            197/5  ...   \n",
       "1       KKR      RCB  BOWL FIRST            200/5  ...   \n",
       "\n",
       "             away_key_batsman                   away_key_bowler  \\\n",
       "0  Shubman Gill,Vijay Shankar            Noor Ahmad,Rashid Khan   \n",
       "1       Jason Roy,Nitish Rana  Varun Chakravarthy,Andre Russell   \n",
       "\n",
       "                                    match_days                umpire1  \\\n",
       "0    21 May 2023 - night match (20-over match)            Nitin Menon   \n",
       "1  26 April 2023 - night match (20-over match)  KN Ananthapadmanabhan   \n",
       "\n",
       "           umpire2      tv_umpire          referee        reserve_umpire  \\\n",
       "0  Virender Sharma   Tapan Sharma  Javagal Srinath            VM  Dhokre   \n",
       "1     Rohan Pandit  Michael Gough      Amit Sharma  Abhijit Bhattacharya   \n",
       "\n",
       "  highest_runs highest_run_team  \n",
       "0        198.0               GT  \n",
       "1        200.0              KKR  \n",
       "\n",
       "[2 rows x 45 columns]"
      ]
     },
     "execution_count": 49,
     "metadata": {},
     "output_type": "execute_result"
    }
   ],
   "source": [
    "rcb_data1=data[data[\"home_team\"]==\"RCB\"]\n",
    "rcb_data2=data[data[\"away_team\"]==\"RCB\"]\n",
    "rcb_data=pd.concat([rcb_data1,rcb_data2],ignore_index=True)\n",
    "rcb_data.head(2)"
   ]
  },
  {
   "cell_type": "code",
   "execution_count": 50,
   "id": "74078a99-1a4f-41d0-85d3-f9055cb0849b",
   "metadata": {},
   "outputs": [
    {
     "data": {
      "text/plain": [
       "(243, 45)"
      ]
     },
     "execution_count": 50,
     "metadata": {},
     "output_type": "execute_result"
    }
   ],
   "source": [
    "rcb_data.shape"
   ]
  },
  {
   "cell_type": "code",
   "execution_count": 51,
   "id": "88504f2f-743f-41f8-ae55-c10375db35c1",
   "metadata": {},
   "outputs": [],
   "source": [
    "1.GROUP BY RCB WINNING Perfo in home "
   ]
  },
  {
   "cell_type": "code",
   "execution_count": 109,
   "id": "05ed0919-6f18-4514-8608-606e89e21839",
   "metadata": {},
   "outputs": [
    {
     "data": {
      "text/html": [
       "<div>\n",
       "<style scoped>\n",
       "    .dataframe tbody tr th:only-of-type {\n",
       "        vertical-align: middle;\n",
       "    }\n",
       "\n",
       "    .dataframe tbody tr th {\n",
       "        vertical-align: top;\n",
       "    }\n",
       "\n",
       "    .dataframe thead th {\n",
       "        text-align: right;\n",
       "    }\n",
       "</style>\n",
       "<table border=\"1\" class=\"dataframe\">\n",
       "  <thead>\n",
       "    <tr style=\"text-align: right;\">\n",
       "      <th></th>\n",
       "      <th>decision</th>\n",
       "      <th>winner</th>\n",
       "      <th>0</th>\n",
       "    </tr>\n",
       "  </thead>\n",
       "  <tbody>\n",
       "    <tr>\n",
       "      <th>0</th>\n",
       "      <td>BAT FIRST</td>\n",
       "      <td>RCB</td>\n",
       "      <td>17</td>\n",
       "    </tr>\n",
       "    <tr>\n",
       "      <th>1</th>\n",
       "      <td>BOWL FIRST</td>\n",
       "      <td>RCB</td>\n",
       "      <td>44</td>\n",
       "    </tr>\n",
       "  </tbody>\n",
       "</table>\n",
       "</div>"
      ],
      "text/plain": [
       "     decision winner   0\n",
       "0   BAT FIRST    RCB  17\n",
       "1  BOWL FIRST    RCB  44"
      ]
     },
     "execution_count": 109,
     "metadata": {},
     "output_type": "execute_result"
    }
   ],
   "source": [
    "hd1=rcb_data1[rcb_data1[\"winner\"]==\"RCB\"]\n",
    "hd1=hd1.groupby(\"decision\")[[\"winner\"]].value_counts().reset_index()\n",
    "hd1"
   ]
  },
  {
   "cell_type": "code",
   "execution_count": 75,
   "id": "40d0f733-e34a-4a99-aa9a-cf1b38d6e213",
   "metadata": {},
   "outputs": [],
   "source": [
    "2.GROUP BY RCB WINNING Perfo in away "
   ]
  },
  {
   "cell_type": "code",
   "execution_count": 112,
   "id": "d64202cb-adef-4e0b-9e20-d81b59394b95",
   "metadata": {},
   "outputs": [
    {
     "data": {
      "text/html": [
       "<div>\n",
       "<style scoped>\n",
       "    .dataframe tbody tr th:only-of-type {\n",
       "        vertical-align: middle;\n",
       "    }\n",
       "\n",
       "    .dataframe tbody tr th {\n",
       "        vertical-align: top;\n",
       "    }\n",
       "\n",
       "    .dataframe thead th {\n",
       "        text-align: right;\n",
       "    }\n",
       "</style>\n",
       "<table border=\"1\" class=\"dataframe\">\n",
       "  <thead>\n",
       "    <tr style=\"text-align: right;\">\n",
       "      <th></th>\n",
       "      <th>decision</th>\n",
       "      <th>winner</th>\n",
       "      <th>0</th>\n",
       "    </tr>\n",
       "  </thead>\n",
       "  <tbody>\n",
       "    <tr>\n",
       "      <th>0</th>\n",
       "      <td>BAT FIRST</td>\n",
       "      <td>RCB</td>\n",
       "      <td>20</td>\n",
       "    </tr>\n",
       "    <tr>\n",
       "      <th>1</th>\n",
       "      <td>BOWL FIRST</td>\n",
       "      <td>RCB</td>\n",
       "      <td>35</td>\n",
       "    </tr>\n",
       "  </tbody>\n",
       "</table>\n",
       "</div>"
      ],
      "text/plain": [
       "     decision winner   0\n",
       "0   BAT FIRST    RCB  20\n",
       "1  BOWL FIRST    RCB  35"
      ]
     },
     "execution_count": 112,
     "metadata": {},
     "output_type": "execute_result"
    }
   ],
   "source": [
    "hd2=rcb_data2[rcb_data2[\"winner\"]==\"RCB\"]\n",
    "hd2=hd2.groupby(\"decision\")[[\"winner\"]].value_counts().reset_index()\n",
    "hd2"
   ]
  },
  {
   "cell_type": "code",
   "execution_count": 76,
   "id": "bb0fd203-f61f-4d51-8ce9-2b1e5840770b",
   "metadata": {},
   "outputs": [],
   "source": [
    "3. It clearly indicates RCB team has won max of there matches while chasing "
   ]
  },
  {
   "cell_type": "code",
   "execution_count": 125,
   "id": "8018c484-e6b8-47f9-b8a6-9030fef05b9f",
   "metadata": {},
   "outputs": [
    {
     "data": {
      "text/html": [
       "<div>\n",
       "<style scoped>\n",
       "    .dataframe tbody tr th:only-of-type {\n",
       "        vertical-align: middle;\n",
       "    }\n",
       "\n",
       "    .dataframe tbody tr th {\n",
       "        vertical-align: top;\n",
       "    }\n",
       "\n",
       "    .dataframe thead th {\n",
       "        text-align: right;\n",
       "    }\n",
       "</style>\n",
       "<table border=\"1\" class=\"dataframe\">\n",
       "  <thead>\n",
       "    <tr style=\"text-align: right;\">\n",
       "      <th></th>\n",
       "      <th>decision</th>\n",
       "      <th>result</th>\n",
       "    </tr>\n",
       "  </thead>\n",
       "  <tbody>\n",
       "    <tr>\n",
       "      <th>0</th>\n",
       "      <td>BAT FIRST</td>\n",
       "      <td>37</td>\n",
       "    </tr>\n",
       "    <tr>\n",
       "      <th>1</th>\n",
       "      <td>BOWL FIRST</td>\n",
       "      <td>79</td>\n",
       "    </tr>\n",
       "  </tbody>\n",
       "</table>\n",
       "</div>"
      ],
      "text/plain": [
       "     decision  result\n",
       "0   BAT FIRST      37\n",
       "1  BOWL FIRST      79"
      ]
     },
     "execution_count": 125,
     "metadata": {},
     "output_type": "execute_result"
    }
   ],
   "source": [
    "hd3=rcb_data[rcb_data[\"winner\"]==\"RCB\"]\n",
    "hd3=(hd3.groupby(\"decision\")[[\"winner\"]].value_counts().reset_index())\n",
    "hd3[\"result\"]=hd3[0]\n",
    "hd3[[\"decision\",\"result\"]]"
   ]
  },
  {
   "cell_type": "code",
   "execution_count": 131,
   "id": "b24ff72d-07cc-4d12-b9a0-c4f36d97e585",
   "metadata": {},
   "outputs": [
    {
     "data": {
      "image/png": "[encoded data removed]",
      "text/plain": [
       "<Figure size 720x360 with 1 Axes>"
      ]
     },
     "metadata": {
      "needs_background": "light"
     },
     "output_type": "display_data"
    }
   ],
   "source": [
    "plt.figure(figsize=(10,5))\n",
    "plt.bar(\"decision\",\"result\",data=hd3,color=\"r\")\n",
    "plt.show()"
   ]
  },
  {
   "cell_type": "code",
   "execution_count": 133,
   "id": "c01352b3-ac80-484f-b5d3-c57cd1caa5d2",
   "metadata": {},
   "outputs": [],
   "source": [
    "# 4 .No of matches RCB won against each team "
   ]
  },
  {
   "cell_type": "code",
   "execution_count": 140,
   "id": "77de520a-6e22-48e4-a4b6-15e86cf2d371",
   "metadata": {},
   "outputs": [
    {
     "data": {
      "text/plain": [
       "(116, 45)"
      ]
     },
     "execution_count": 140,
     "metadata": {},
     "output_type": "execute_result"
    }
   ],
   "source": [
    "rcb_data_win=rcb_data[rcb_data[\"winner\"]==\"RCB\"]\n",
    "rcb_data_win.shape"
   ]
  },
  {
   "cell_type": "code",
   "execution_count": 168,
   "id": "1e9ebbb9-d08a-4816-8a7b-4752be067276",
   "metadata": {},
   "outputs": [
    {
     "name": "stderr",
     "output_type": "stream",
     "text": [
      "/tmp/ipykernel_144/3905670329.py:1: SettingWithCopyWarning: \n",
      "A value is trying to be set on a copy of a slice from a DataFrame.\n",
      "Try using .loc[row_indexer,col_indexer] = value instead\n",
      "\n",
      "See the caveats in the documentation: https://pandas.pydata.org/pandas-docs/stable/user_guide/indexing.html#returning-a-view-versus-a-copy\n",
      "  rcb_data_win[\"looser\"]=np.where((rcb_data_win[\"home_team\"]==rcb_data_win[\"winner\"]),rcb_data_win[\"away_team\"],rcb_data_win[\"home_team\"])\n"
     ]
    }
   ],
   "source": [
    "rcb_data_win[\"looser\"]=np.where((rcb_data_win[\"home_team\"]==rcb_data_win[\"winner\"]),rcb_data_win[\"away_team\"],rcb_data_win[\"home_team\"])"
   ]
  },
  {
   "cell_type": "code",
   "execution_count": 183,
   "id": "aa84f938-4f61-4786-8d04-ddf7237b033f",
   "metadata": {},
   "outputs": [
    {
     "data": {
      "text/html": [
       "<div>\n",
       "<style scoped>\n",
       "    .dataframe tbody tr th:only-of-type {\n",
       "        vertical-align: middle;\n",
       "    }\n",
       "\n",
       "    .dataframe tbody tr th {\n",
       "        vertical-align: top;\n",
       "    }\n",
       "\n",
       "    .dataframe thead th {\n",
       "        text-align: right;\n",
       "    }\n",
       "</style>\n",
       "<table border=\"1\" class=\"dataframe\">\n",
       "  <thead>\n",
       "    <tr style=\"text-align: right;\">\n",
       "      <th></th>\n",
       "      <th>index</th>\n",
       "      <th>looser</th>\n",
       "    </tr>\n",
       "  </thead>\n",
       "  <tbody>\n",
       "    <tr>\n",
       "      <th>0</th>\n",
       "      <td>DC</td>\n",
       "      <td>19</td>\n",
       "    </tr>\n",
       "    <tr>\n",
       "      <th>1</th>\n",
       "      <td>RR</td>\n",
       "      <td>15</td>\n",
       "    </tr>\n",
       "    <tr>\n",
       "      <th>2</th>\n",
       "      <td>SRH</td>\n",
       "      <td>15</td>\n",
       "    </tr>\n",
       "    <tr>\n",
       "      <th>3</th>\n",
       "      <td>KKR</td>\n",
       "      <td>14</td>\n",
       "    </tr>\n",
       "    <tr>\n",
       "      <th>4</th>\n",
       "      <td>MI</td>\n",
       "      <td>13</td>\n",
       "    </tr>\n",
       "    <tr>\n",
       "      <th>5</th>\n",
       "      <td>KXIP</td>\n",
       "      <td>12</td>\n",
       "    </tr>\n",
       "    <tr>\n",
       "      <th>6</th>\n",
       "      <td>CSK</td>\n",
       "      <td>10</td>\n",
       "    </tr>\n",
       "    <tr>\n",
       "      <th>7</th>\n",
       "      <td>PWI</td>\n",
       "      <td>5</td>\n",
       "    </tr>\n",
       "    <tr>\n",
       "      <th>8</th>\n",
       "      <td>GL</td>\n",
       "      <td>3</td>\n",
       "    </tr>\n",
       "    <tr>\n",
       "      <th>9</th>\n",
       "      <td>LSG</td>\n",
       "      <td>3</td>\n",
       "    </tr>\n",
       "    <tr>\n",
       "      <th>10</th>\n",
       "      <td>PBKS</td>\n",
       "      <td>2</td>\n",
       "    </tr>\n",
       "    <tr>\n",
       "      <th>11</th>\n",
       "      <td>RPS</td>\n",
       "      <td>2</td>\n",
       "    </tr>\n",
       "    <tr>\n",
       "      <th>12</th>\n",
       "      <td>Kochi</td>\n",
       "      <td>2</td>\n",
       "    </tr>\n",
       "    <tr>\n",
       "      <th>13</th>\n",
       "      <td>GT</td>\n",
       "      <td>1</td>\n",
       "    </tr>\n",
       "  </tbody>\n",
       "</table>\n",
       "</div>"
      ],
      "text/plain": [
       "    index  looser\n",
       "0      DC      19\n",
       "1      RR      15\n",
       "2     SRH      15\n",
       "3     KKR      14\n",
       "4      MI      13\n",
       "5    KXIP      12\n",
       "6     CSK      10\n",
       "7     PWI       5\n",
       "8      GL       3\n",
       "9     LSG       3\n",
       "10   PBKS       2\n",
       "11    RPS       2\n",
       "12  Kochi       2\n",
       "13     GT       1"
      ]
     },
     "execution_count": 183,
     "metadata": {},
     "output_type": "execute_result"
    }
   ],
   "source": [
    "rcb_data_win_ag_team=rcb_data_win[\"looser\"].value_counts().reset_index()\n",
    "rcb_data_win_ag_team"
   ]
  },
  {
   "cell_type": "code",
   "execution_count": 184,
   "id": "0809adce-64c5-4353-9c6f-8d96116b8f8f",
   "metadata": {},
   "outputs": [],
   "source": [
    "#RCB HAS HIGHEST WINS AGAINST DC,RR,SRH "
   ]
  },
  {
   "cell_type": "code",
   "execution_count": 186,
   "id": "d1398c8d-4b6c-46ce-92ca-5caa55b089c2",
   "metadata": {},
   "outputs": [],
   "source": [
    "#5 . FIND RCB  WIN AGAINST EACH TEAM WHILE BATTING AMD CHASING "
   ]
  },
  {
   "cell_type": "code",
   "execution_count": 207,
   "id": "bc2a0c26-c9d3-4fcb-952f-3adbc199798d",
   "metadata": {},
   "outputs": [
    {
     "data": {
      "text/html": [
       "<div>\n",
       "<style scoped>\n",
       "    .dataframe tbody tr th:only-of-type {\n",
       "        vertical-align: middle;\n",
       "    }\n",
       "\n",
       "    .dataframe tbody tr th {\n",
       "        vertical-align: top;\n",
       "    }\n",
       "\n",
       "    .dataframe thead th {\n",
       "        text-align: right;\n",
       "    }\n",
       "</style>\n",
       "<table border=\"1\" class=\"dataframe\">\n",
       "  <thead>\n",
       "    <tr style=\"text-align: right;\">\n",
       "      <th></th>\n",
       "      <th>decision</th>\n",
       "      <th>looser</th>\n",
       "      <th>winner</th>\n",
       "      <th>0</th>\n",
       "    </tr>\n",
       "  </thead>\n",
       "  <tbody>\n",
       "    <tr>\n",
       "      <th>0</th>\n",
       "      <td>BAT FIRST</td>\n",
       "      <td>CSK</td>\n",
       "      <td>RCB</td>\n",
       "      <td>4</td>\n",
       "    </tr>\n",
       "    <tr>\n",
       "      <th>1</th>\n",
       "      <td>BAT FIRST</td>\n",
       "      <td>DC</td>\n",
       "      <td>RCB</td>\n",
       "      <td>3</td>\n",
       "    </tr>\n",
       "    <tr>\n",
       "      <th>2</th>\n",
       "      <td>BAT FIRST</td>\n",
       "      <td>GT</td>\n",
       "      <td>RCB</td>\n",
       "      <td>1</td>\n",
       "    </tr>\n",
       "    <tr>\n",
       "      <th>3</th>\n",
       "      <td>BAT FIRST</td>\n",
       "      <td>KKR</td>\n",
       "      <td>RCB</td>\n",
       "      <td>4</td>\n",
       "    </tr>\n",
       "    <tr>\n",
       "      <th>4</th>\n",
       "      <td>BAT FIRST</td>\n",
       "      <td>KXIP</td>\n",
       "      <td>RCB</td>\n",
       "      <td>3</td>\n",
       "    </tr>\n",
       "    <tr>\n",
       "      <th>5</th>\n",
       "      <td>BAT FIRST</td>\n",
       "      <td>Kochi</td>\n",
       "      <td>RCB</td>\n",
       "      <td>2</td>\n",
       "    </tr>\n",
       "    <tr>\n",
       "      <th>6</th>\n",
       "      <td>BAT FIRST</td>\n",
       "      <td>LSG</td>\n",
       "      <td>RCB</td>\n",
       "      <td>1</td>\n",
       "    </tr>\n",
       "    <tr>\n",
       "      <th>7</th>\n",
       "      <td>BAT FIRST</td>\n",
       "      <td>MI</td>\n",
       "      <td>RCB</td>\n",
       "      <td>4</td>\n",
       "    </tr>\n",
       "    <tr>\n",
       "      <th>8</th>\n",
       "      <td>BAT FIRST</td>\n",
       "      <td>PBKS</td>\n",
       "      <td>RCB</td>\n",
       "      <td>1</td>\n",
       "    </tr>\n",
       "    <tr>\n",
       "      <th>9</th>\n",
       "      <td>BAT FIRST</td>\n",
       "      <td>PWI</td>\n",
       "      <td>RCB</td>\n",
       "      <td>2</td>\n",
       "    </tr>\n",
       "    <tr>\n",
       "      <th>10</th>\n",
       "      <td>BAT FIRST</td>\n",
       "      <td>RR</td>\n",
       "      <td>RCB</td>\n",
       "      <td>6</td>\n",
       "    </tr>\n",
       "    <tr>\n",
       "      <th>11</th>\n",
       "      <td>BAT FIRST</td>\n",
       "      <td>SRH</td>\n",
       "      <td>RCB</td>\n",
       "      <td>6</td>\n",
       "    </tr>\n",
       "    <tr>\n",
       "      <th>12</th>\n",
       "      <td>BOWL FIRST</td>\n",
       "      <td>CSK</td>\n",
       "      <td>RCB</td>\n",
       "      <td>6</td>\n",
       "    </tr>\n",
       "    <tr>\n",
       "      <th>13</th>\n",
       "      <td>BOWL FIRST</td>\n",
       "      <td>DC</td>\n",
       "      <td>RCB</td>\n",
       "      <td>16</td>\n",
       "    </tr>\n",
       "    <tr>\n",
       "      <th>14</th>\n",
       "      <td>BOWL FIRST</td>\n",
       "      <td>GL</td>\n",
       "      <td>RCB</td>\n",
       "      <td>3</td>\n",
       "    </tr>\n",
       "    <tr>\n",
       "      <th>15</th>\n",
       "      <td>BOWL FIRST</td>\n",
       "      <td>KKR</td>\n",
       "      <td>RCB</td>\n",
       "      <td>10</td>\n",
       "    </tr>\n",
       "    <tr>\n",
       "      <th>16</th>\n",
       "      <td>BOWL FIRST</td>\n",
       "      <td>KXIP</td>\n",
       "      <td>RCB</td>\n",
       "      <td>9</td>\n",
       "    </tr>\n",
       "    <tr>\n",
       "      <th>17</th>\n",
       "      <td>BOWL FIRST</td>\n",
       "      <td>LSG</td>\n",
       "      <td>RCB</td>\n",
       "      <td>2</td>\n",
       "    </tr>\n",
       "    <tr>\n",
       "      <th>18</th>\n",
       "      <td>BOWL FIRST</td>\n",
       "      <td>MI</td>\n",
       "      <td>RCB</td>\n",
       "      <td>9</td>\n",
       "    </tr>\n",
       "    <tr>\n",
       "      <th>19</th>\n",
       "      <td>BOWL FIRST</td>\n",
       "      <td>PBKS</td>\n",
       "      <td>RCB</td>\n",
       "      <td>1</td>\n",
       "    </tr>\n",
       "    <tr>\n",
       "      <th>20</th>\n",
       "      <td>BOWL FIRST</td>\n",
       "      <td>PWI</td>\n",
       "      <td>RCB</td>\n",
       "      <td>3</td>\n",
       "    </tr>\n",
       "    <tr>\n",
       "      <th>21</th>\n",
       "      <td>BOWL FIRST</td>\n",
       "      <td>RPS</td>\n",
       "      <td>RCB</td>\n",
       "      <td>2</td>\n",
       "    </tr>\n",
       "    <tr>\n",
       "      <th>22</th>\n",
       "      <td>BOWL FIRST</td>\n",
       "      <td>RR</td>\n",
       "      <td>RCB</td>\n",
       "      <td>9</td>\n",
       "    </tr>\n",
       "    <tr>\n",
       "      <th>23</th>\n",
       "      <td>BOWL FIRST</td>\n",
       "      <td>SRH</td>\n",
       "      <td>RCB</td>\n",
       "      <td>9</td>\n",
       "    </tr>\n",
       "  </tbody>\n",
       "</table>\n",
       "</div>"
      ],
      "text/plain": [
       "      decision looser winner   0\n",
       "0    BAT FIRST    CSK    RCB   4\n",
       "1    BAT FIRST     DC    RCB   3\n",
       "2    BAT FIRST     GT    RCB   1\n",
       "3    BAT FIRST    KKR    RCB   4\n",
       "4    BAT FIRST   KXIP    RCB   3\n",
       "5    BAT FIRST  Kochi    RCB   2\n",
       "6    BAT FIRST    LSG    RCB   1\n",
       "7    BAT FIRST     MI    RCB   4\n",
       "8    BAT FIRST   PBKS    RCB   1\n",
       "9    BAT FIRST    PWI    RCB   2\n",
       "10   BAT FIRST     RR    RCB   6\n",
       "11   BAT FIRST    SRH    RCB   6\n",
       "12  BOWL FIRST    CSK    RCB   6\n",
       "13  BOWL FIRST     DC    RCB  16\n",
       "14  BOWL FIRST     GL    RCB   3\n",
       "15  BOWL FIRST    KKR    RCB  10\n",
       "16  BOWL FIRST   KXIP    RCB   9\n",
       "17  BOWL FIRST    LSG    RCB   2\n",
       "18  BOWL FIRST     MI    RCB   9\n",
       "19  BOWL FIRST   PBKS    RCB   1\n",
       "20  BOWL FIRST    PWI    RCB   3\n",
       "21  BOWL FIRST    RPS    RCB   2\n",
       "22  BOWL FIRST     RR    RCB   9\n",
       "23  BOWL FIRST    SRH    RCB   9"
      ]
     },
     "execution_count": 207,
     "metadata": {},
     "output_type": "execute_result"
    }
   ],
   "source": [
    "a=rcb_data_win.groupby([\"decision\",\"looser\"])[[\"winner\"]].value_counts().reset_index()\n",
    "a.sort_values(by=\"looser\",ascending=False)\n",
    "a"
   ]
  },
  {
   "cell_type": "code",
   "execution_count": null,
   "id": "b1a4d21c-3354-47ca-9544-9562ba143ab7",
   "metadata": {},
   "outputs": [],
   "source": []
  },
  {
   "cell_type": "code",
   "execution_count": null,
   "id": "68458a43-c383-4b5f-ab79-e893f832f8f2",
   "metadata": {},
   "outputs": [],
   "source": []
  }
 ],
 "metadata": {
  "kernelspec": {
   "display_name": "Python 3 [3.10]",
   "language": "python",
   "name": "python3"
  },
  "language_info": {
   "codemirror_mode": {
    "name": "ipython",
    "version": 3
   },
   "file_extension": ".py",
   "mimetype": "text/x-python",
   "name": "python",
   "nbconvert_exporter": "python",
   "pygments_lexer": "ipython3",
   "version": "3.10.2"
  }
 },
 "nbformat": 4,
 "nbformat_minor": 5
}
